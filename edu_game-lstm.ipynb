{
 "cells": [
  {
   "cell_type": "code",
   "execution_count": 1,
   "id": "edfbde4f",
   "metadata": {
    "executionInfo": {
     "elapsed": 163,
     "status": "ok",
     "timestamp": 1681892477684,
     "user": {
      "displayName": "Kavya",
      "userId": "12727244976835915726"
     },
     "user_tz": 420
    },
    "id": "edfbde4f"
   },
   "outputs": [],
   "source": [
    "import pandas as pd\n",
    "import seaborn as sns\n",
    "import matplotlib.pyplot as plt\n",
    "import numpy as np\n",
    "from sklearn import preprocessing\n",
    "from sklearn.impute import SimpleImputer\n",
    "from sklearn.preprocessing import MinMaxScaler\n",
    "import plotly.express as px\n",
    "from sklearn.model_selection import train_test_split\n",
    "import tensorflow as tf\n",
    "import warnings\n",
    "warnings.filterwarnings('ignore')\n",
    "from sklearn.metrics import accuracy_score, precision_score, recall_score, f1_score, roc_auc_score, roc_curve"
   ]
  },
  {
   "cell_type": "code",
   "execution_count": 2,
   "id": "00cce9bb",
   "metadata": {
    "executionInfo": {
     "elapsed": 3,
     "status": "ok",
     "timestamp": 1681892477876,
     "user": {
      "displayName": "Kavya",
      "userId": "12727244976835915726"
     },
     "user_tz": 420
    },
    "id": "00cce9bb"
   },
   "outputs": [],
   "source": [
    "df = pd.read_csv('train.csv')"
   ]
  },
  {
   "cell_type": "code",
   "execution_count": 3,
   "id": "226e4e8d",
   "metadata": {
    "executionInfo": {
     "elapsed": 264,
     "status": "ok",
     "timestamp": 1681892478138,
     "user": {
      "displayName": "Kavya",
      "userId": "12727244976835915726"
     },
     "user_tz": 420
    },
    "id": "226e4e8d"
   },
   "outputs": [],
   "source": [
    "labels = pd.read_csv('train_labels.csv')"
   ]
  },
  {
   "cell_type": "code",
   "execution_count": 4,
   "id": "ca6065b6",
   "metadata": {
    "colab": {
     "base_uri": "https://localhost:8080/",
     "height": 473
    },
    "executionInfo": {
     "elapsed": 205,
     "status": "ok",
     "timestamp": 1681892478342,
     "user": {
      "displayName": "Kavya",
      "userId": "12727244976835915726"
     },
     "user_tz": 420
    },
    "id": "ca6065b6",
    "outputId": "61bcab1b-e8b5-46ed-b6c5-2efe811a69a9"
   },
   "outputs": [
    {
     "data": {
      "text/html": [
       "<div>\n",
       "<style scoped>\n",
       "    .dataframe tbody tr th:only-of-type {\n",
       "        vertical-align: middle;\n",
       "    }\n",
       "\n",
       "    .dataframe tbody tr th {\n",
       "        vertical-align: top;\n",
       "    }\n",
       "\n",
       "    .dataframe thead th {\n",
       "        text-align: right;\n",
       "    }\n",
       "</style>\n",
       "<table border=\"1\" class=\"dataframe\">\n",
       "  <thead>\n",
       "    <tr style=\"text-align: right;\">\n",
       "      <th></th>\n",
       "      <th>session_id</th>\n",
       "      <th>index</th>\n",
       "      <th>elapsed_time</th>\n",
       "      <th>event_name</th>\n",
       "      <th>name</th>\n",
       "      <th>level</th>\n",
       "      <th>page</th>\n",
       "      <th>room_coor_x</th>\n",
       "      <th>room_coor_y</th>\n",
       "      <th>screen_coor_x</th>\n",
       "      <th>screen_coor_y</th>\n",
       "      <th>hover_duration</th>\n",
       "      <th>text</th>\n",
       "      <th>fqid</th>\n",
       "      <th>room_fqid</th>\n",
       "      <th>text_fqid</th>\n",
       "      <th>fullscreen</th>\n",
       "      <th>hq</th>\n",
       "      <th>music</th>\n",
       "      <th>level_group</th>\n",
       "    </tr>\n",
       "  </thead>\n",
       "  <tbody>\n",
       "    <tr>\n",
       "      <th>0</th>\n",
       "      <td>20090312431273200</td>\n",
       "      <td>0</td>\n",
       "      <td>0</td>\n",
       "      <td>cutscene_click</td>\n",
       "      <td>basic</td>\n",
       "      <td>0</td>\n",
       "      <td>NaN</td>\n",
       "      <td>-413.991405</td>\n",
       "      <td>-159.314686</td>\n",
       "      <td>380.0</td>\n",
       "      <td>494.0</td>\n",
       "      <td>NaN</td>\n",
       "      <td>undefined</td>\n",
       "      <td>intro</td>\n",
       "      <td>tunic.historicalsociety.closet</td>\n",
       "      <td>tunic.historicalsociety.closet.intro</td>\n",
       "      <td>0</td>\n",
       "      <td>0</td>\n",
       "      <td>1</td>\n",
       "      <td>0-4</td>\n",
       "    </tr>\n",
       "    <tr>\n",
       "      <th>1</th>\n",
       "      <td>20090312431273200</td>\n",
       "      <td>1</td>\n",
       "      <td>1323</td>\n",
       "      <td>person_click</td>\n",
       "      <td>basic</td>\n",
       "      <td>0</td>\n",
       "      <td>NaN</td>\n",
       "      <td>-413.991405</td>\n",
       "      <td>-159.314686</td>\n",
       "      <td>380.0</td>\n",
       "      <td>494.0</td>\n",
       "      <td>NaN</td>\n",
       "      <td>Whatcha doing over there, Jo?</td>\n",
       "      <td>gramps</td>\n",
       "      <td>tunic.historicalsociety.closet</td>\n",
       "      <td>tunic.historicalsociety.closet.gramps.intro_0_...</td>\n",
       "      <td>0</td>\n",
       "      <td>0</td>\n",
       "      <td>1</td>\n",
       "      <td>0-4</td>\n",
       "    </tr>\n",
       "    <tr>\n",
       "      <th>2</th>\n",
       "      <td>20090312431273200</td>\n",
       "      <td>2</td>\n",
       "      <td>831</td>\n",
       "      <td>person_click</td>\n",
       "      <td>basic</td>\n",
       "      <td>0</td>\n",
       "      <td>NaN</td>\n",
       "      <td>-413.991405</td>\n",
       "      <td>-159.314686</td>\n",
       "      <td>380.0</td>\n",
       "      <td>494.0</td>\n",
       "      <td>NaN</td>\n",
       "      <td>Just talking to Teddy.</td>\n",
       "      <td>gramps</td>\n",
       "      <td>tunic.historicalsociety.closet</td>\n",
       "      <td>tunic.historicalsociety.closet.gramps.intro_0_...</td>\n",
       "      <td>0</td>\n",
       "      <td>0</td>\n",
       "      <td>1</td>\n",
       "      <td>0-4</td>\n",
       "    </tr>\n",
       "    <tr>\n",
       "      <th>3</th>\n",
       "      <td>20090312431273200</td>\n",
       "      <td>3</td>\n",
       "      <td>1147</td>\n",
       "      <td>person_click</td>\n",
       "      <td>basic</td>\n",
       "      <td>0</td>\n",
       "      <td>NaN</td>\n",
       "      <td>-413.991405</td>\n",
       "      <td>-159.314686</td>\n",
       "      <td>380.0</td>\n",
       "      <td>494.0</td>\n",
       "      <td>NaN</td>\n",
       "      <td>I gotta run to my meeting!</td>\n",
       "      <td>gramps</td>\n",
       "      <td>tunic.historicalsociety.closet</td>\n",
       "      <td>tunic.historicalsociety.closet.gramps.intro_0_...</td>\n",
       "      <td>0</td>\n",
       "      <td>0</td>\n",
       "      <td>1</td>\n",
       "      <td>0-4</td>\n",
       "    </tr>\n",
       "    <tr>\n",
       "      <th>4</th>\n",
       "      <td>20090312431273200</td>\n",
       "      <td>4</td>\n",
       "      <td>1863</td>\n",
       "      <td>person_click</td>\n",
       "      <td>basic</td>\n",
       "      <td>0</td>\n",
       "      <td>NaN</td>\n",
       "      <td>-412.991405</td>\n",
       "      <td>-159.314686</td>\n",
       "      <td>381.0</td>\n",
       "      <td>494.0</td>\n",
       "      <td>NaN</td>\n",
       "      <td>Can I come, Gramps?</td>\n",
       "      <td>gramps</td>\n",
       "      <td>tunic.historicalsociety.closet</td>\n",
       "      <td>tunic.historicalsociety.closet.gramps.intro_0_...</td>\n",
       "      <td>0</td>\n",
       "      <td>0</td>\n",
       "      <td>1</td>\n",
       "      <td>0-4</td>\n",
       "    </tr>\n",
       "  </tbody>\n",
       "</table>\n",
       "</div>"
      ],
      "text/plain": [
       "          session_id  index  elapsed_time      event_name   name  level  page  \\\n",
       "0  20090312431273200      0             0  cutscene_click  basic      0   NaN   \n",
       "1  20090312431273200      1          1323    person_click  basic      0   NaN   \n",
       "2  20090312431273200      2           831    person_click  basic      0   NaN   \n",
       "3  20090312431273200      3          1147    person_click  basic      0   NaN   \n",
       "4  20090312431273200      4          1863    person_click  basic      0   NaN   \n",
       "\n",
       "   room_coor_x  room_coor_y  screen_coor_x  screen_coor_y  hover_duration  \\\n",
       "0  -413.991405  -159.314686          380.0          494.0             NaN   \n",
       "1  -413.991405  -159.314686          380.0          494.0             NaN   \n",
       "2  -413.991405  -159.314686          380.0          494.0             NaN   \n",
       "3  -413.991405  -159.314686          380.0          494.0             NaN   \n",
       "4  -412.991405  -159.314686          381.0          494.0             NaN   \n",
       "\n",
       "                            text    fqid                       room_fqid  \\\n",
       "0                      undefined   intro  tunic.historicalsociety.closet   \n",
       "1  Whatcha doing over there, Jo?  gramps  tunic.historicalsociety.closet   \n",
       "2         Just talking to Teddy.  gramps  tunic.historicalsociety.closet   \n",
       "3     I gotta run to my meeting!  gramps  tunic.historicalsociety.closet   \n",
       "4            Can I come, Gramps?  gramps  tunic.historicalsociety.closet   \n",
       "\n",
       "                                           text_fqid  fullscreen  hq  music  \\\n",
       "0               tunic.historicalsociety.closet.intro           0   0      1   \n",
       "1  tunic.historicalsociety.closet.gramps.intro_0_...           0   0      1   \n",
       "2  tunic.historicalsociety.closet.gramps.intro_0_...           0   0      1   \n",
       "3  tunic.historicalsociety.closet.gramps.intro_0_...           0   0      1   \n",
       "4  tunic.historicalsociety.closet.gramps.intro_0_...           0   0      1   \n",
       "\n",
       "  level_group  \n",
       "0         0-4  \n",
       "1         0-4  \n",
       "2         0-4  \n",
       "3         0-4  \n",
       "4         0-4  "
      ]
     },
     "execution_count": 4,
     "metadata": {},
     "output_type": "execute_result"
    }
   ],
   "source": [
    "df.head()"
   ]
  },
  {
   "cell_type": "code",
   "execution_count": 5,
   "id": "2a90f770",
   "metadata": {
    "colab": {
     "base_uri": "https://localhost:8080/"
    },
    "executionInfo": {
     "elapsed": 14,
     "status": "ok",
     "timestamp": 1681892478343,
     "user": {
      "displayName": "Kavya",
      "userId": "12727244976835915726"
     },
     "user_tz": 420
    },
    "id": "2a90f770",
    "outputId": "ac0c74f6-0047-4a81-fe64-a538329b246b"
   },
   "outputs": [
    {
     "name": "stdout",
     "output_type": "stream",
     "text": [
      "<bound method DataFrame.info of                  session_id  index  elapsed_time      event_name       name  \\\n",
      "0         20090312431273200      0             0  cutscene_click      basic   \n",
      "1         20090312431273200      1          1323    person_click      basic   \n",
      "2         20090312431273200      2           831    person_click      basic   \n",
      "3         20090312431273200      3          1147    person_click      basic   \n",
      "4         20090312431273200      4          1863    person_click      basic   \n",
      "...                     ...    ...           ...             ...        ...   \n",
      "26296941  22100221145014656   1600       5483231  navigate_click  undefined   \n",
      "26296942  22100221145014656   1601       5485166  navigate_click  undefined   \n",
      "26296943  22100221145014656   1602       5485917  navigate_click  undefined   \n",
      "26296944  22100221145014656   1603       5486753  navigate_click  undefined   \n",
      "26296945  22100221145014656   1604       5487952      checkpoint      basic   \n",
      "\n",
      "          level  page  room_coor_x  room_coor_y  screen_coor_x  screen_coor_y  \\\n",
      "0             0   NaN  -413.991405  -159.314686          380.0          494.0   \n",
      "1             0   NaN  -413.991405  -159.314686          380.0          494.0   \n",
      "2             0   NaN  -413.991405  -159.314686          380.0          494.0   \n",
      "3             0   NaN  -413.991405  -159.314686          380.0          494.0   \n",
      "4             0   NaN  -412.991405  -159.314686          381.0          494.0   \n",
      "...         ...   ...          ...          ...            ...            ...   \n",
      "26296941     22   NaN   343.887291    36.701026          483.0          273.0   \n",
      "26296942     22   NaN   332.696070   141.493178          545.0          221.0   \n",
      "26296943     22   NaN   369.912859   140.569205          611.0          217.0   \n",
      "26296944     22   NaN   252.299653   123.805889          526.0          232.0   \n",
      "26296945     22   NaN          NaN          NaN            NaN            NaN   \n",
      "\n",
      "          hover_duration                           text            fqid  \\\n",
      "0                    NaN                      undefined           intro   \n",
      "1                    NaN  Whatcha doing over there, Jo?          gramps   \n",
      "2                    NaN         Just talking to Teddy.          gramps   \n",
      "3                    NaN     I gotta run to my meeting!          gramps   \n",
      "4                    NaN            Can I come, Gramps?          gramps   \n",
      "...                  ...                            ...             ...   \n",
      "26296941             NaN                            NaN             NaN   \n",
      "26296942             NaN                            NaN  chap4_finale_c   \n",
      "26296943             NaN                            NaN             NaN   \n",
      "26296944             NaN                            NaN  chap4_finale_c   \n",
      "26296945             NaN                            NaN  chap4_finale_c   \n",
      "\n",
      "                               room_fqid  \\\n",
      "0         tunic.historicalsociety.closet   \n",
      "1         tunic.historicalsociety.closet   \n",
      "2         tunic.historicalsociety.closet   \n",
      "3         tunic.historicalsociety.closet   \n",
      "4         tunic.historicalsociety.closet   \n",
      "...                                  ...   \n",
      "26296941            tunic.capitol_2.hall   \n",
      "26296942            tunic.capitol_2.hall   \n",
      "26296943            tunic.capitol_2.hall   \n",
      "26296944            tunic.capitol_2.hall   \n",
      "26296945            tunic.capitol_2.hall   \n",
      "\n",
      "                                                  text_fqid  fullscreen  hq  \\\n",
      "0                      tunic.historicalsociety.closet.intro           0   0   \n",
      "1         tunic.historicalsociety.closet.gramps.intro_0_...           0   0   \n",
      "2         tunic.historicalsociety.closet.gramps.intro_0_...           0   0   \n",
      "3         tunic.historicalsociety.closet.gramps.intro_0_...           0   0   \n",
      "4         tunic.historicalsociety.closet.gramps.intro_0_...           0   0   \n",
      "...                                                     ...         ...  ..   \n",
      "26296941                                                NaN           0   0   \n",
      "26296942                                                NaN           0   0   \n",
      "26296943                                                NaN           0   0   \n",
      "26296944                                                NaN           0   0   \n",
      "26296945                                                NaN           0   0   \n",
      "\n",
      "          music level_group  \n",
      "0             1         0-4  \n",
      "1             1         0-4  \n",
      "2             1         0-4  \n",
      "3             1         0-4  \n",
      "4             1         0-4  \n",
      "...         ...         ...  \n",
      "26296941      1       13-22  \n",
      "26296942      1       13-22  \n",
      "26296943      1       13-22  \n",
      "26296944      1       13-22  \n",
      "26296945      1       13-22  \n",
      "\n",
      "[26296946 rows x 20 columns]>\n"
     ]
    }
   ],
   "source": [
    "print(df.info)"
   ]
  },
  {
   "cell_type": "code",
   "execution_count": 6,
   "id": "691c0ba4",
   "metadata": {
    "colab": {
     "base_uri": "https://localhost:8080/"
    },
    "executionInfo": {
     "elapsed": 12,
     "status": "ok",
     "timestamp": 1681892478343,
     "user": {
      "displayName": "Kavya",
      "userId": "12727244976835915726"
     },
     "user_tz": 420
    },
    "id": "691c0ba4",
    "outputId": "6fb6534d-aae0-4312-be17-a3cbd4611d7f"
   },
   "outputs": [
    {
     "data": {
      "text/plain": [
       "session_id        26296946\n",
       "index             26296946\n",
       "elapsed_time      26296946\n",
       "event_name        26296946\n",
       "name              26296946\n",
       "level             26296946\n",
       "page                564544\n",
       "room_coor_x       24223674\n",
       "room_coor_y       24223674\n",
       "screen_coor_x     24223674\n",
       "screen_coor_y     24223674\n",
       "hover_duration     2002244\n",
       "text               9617139\n",
       "fqid              18022531\n",
       "room_fqid         26296946\n",
       "text_fqid          9617244\n",
       "fullscreen        26296946\n",
       "hq                26296946\n",
       "music             26296946\n",
       "level_group       26296946\n",
       "dtype: int64"
      ]
     },
     "execution_count": 6,
     "metadata": {},
     "output_type": "execute_result"
    }
   ],
   "source": [
    "df.count()"
   ]
  },
  {
   "cell_type": "code",
   "execution_count": 7,
   "id": "6f264dd1",
   "metadata": {
    "colab": {
     "base_uri": "https://localhost:8080/"
    },
    "executionInfo": {
     "elapsed": 11,
     "status": "ok",
     "timestamp": 1681892478343,
     "user": {
      "displayName": "Kavya",
      "userId": "12727244976835915726"
     },
     "user_tz": 420
    },
    "id": "6f264dd1",
    "outputId": "2cdc3b2e-a8c3-43be-cb07-409398603a37"
   },
   "outputs": [
    {
     "data": {
      "text/plain": [
       "session_id           23562\n",
       "index                20348\n",
       "elapsed_time       5042639\n",
       "event_name              11\n",
       "name                     6\n",
       "level                   23\n",
       "page                     7\n",
       "room_coor_x       17438693\n",
       "room_coor_y       13651023\n",
       "screen_coor_x        57924\n",
       "screen_coor_y       102591\n",
       "hover_duration       24101\n",
       "text                   597\n",
       "fqid                   128\n",
       "room_fqid               19\n",
       "text_fqid              126\n",
       "fullscreen               2\n",
       "hq                       2\n",
       "music                    2\n",
       "level_group              3\n",
       "dtype: int64"
      ]
     },
     "execution_count": 7,
     "metadata": {},
     "output_type": "execute_result"
    }
   ],
   "source": [
    "df.nunique()"
   ]
  },
  {
   "cell_type": "code",
   "execution_count": 8,
   "id": "dd174dc1",
   "metadata": {
    "colab": {
     "base_uri": "https://localhost:8080/",
     "height": 364
    },
    "executionInfo": {
     "elapsed": 10,
     "status": "ok",
     "timestamp": 1681892478343,
     "user": {
      "displayName": "Kavya",
      "userId": "12727244976835915726"
     },
     "user_tz": 420
    },
    "id": "dd174dc1",
    "outputId": "5d0dd2c0-6355-4ceb-b5e5-6720ea8e8205"
   },
   "outputs": [
    {
     "data": {
      "text/html": [
       "<div>\n",
       "<style scoped>\n",
       "    .dataframe tbody tr th:only-of-type {\n",
       "        vertical-align: middle;\n",
       "    }\n",
       "\n",
       "    .dataframe tbody tr th {\n",
       "        vertical-align: top;\n",
       "    }\n",
       "\n",
       "    .dataframe thead th {\n",
       "        text-align: right;\n",
       "    }\n",
       "</style>\n",
       "<table border=\"1\" class=\"dataframe\">\n",
       "  <thead>\n",
       "    <tr style=\"text-align: right;\">\n",
       "      <th></th>\n",
       "      <th>session_id</th>\n",
       "      <th>index</th>\n",
       "      <th>elapsed_time</th>\n",
       "      <th>level</th>\n",
       "      <th>page</th>\n",
       "      <th>room_coor_x</th>\n",
       "      <th>room_coor_y</th>\n",
       "      <th>screen_coor_x</th>\n",
       "      <th>screen_coor_y</th>\n",
       "      <th>hover_duration</th>\n",
       "      <th>fullscreen</th>\n",
       "      <th>hq</th>\n",
       "      <th>music</th>\n",
       "    </tr>\n",
       "  </thead>\n",
       "  <tbody>\n",
       "    <tr>\n",
       "      <th>count</th>\n",
       "      <td>2.629695e+07</td>\n",
       "      <td>2.629695e+07</td>\n",
       "      <td>2.629695e+07</td>\n",
       "      <td>2.629695e+07</td>\n",
       "      <td>564544.000000</td>\n",
       "      <td>2.422367e+07</td>\n",
       "      <td>2.422367e+07</td>\n",
       "      <td>2.422367e+07</td>\n",
       "      <td>2.422367e+07</td>\n",
       "      <td>2.002244e+06</td>\n",
       "      <td>2.629695e+07</td>\n",
       "      <td>2.629695e+07</td>\n",
       "      <td>2.629695e+07</td>\n",
       "    </tr>\n",
       "    <tr>\n",
       "      <th>mean</th>\n",
       "      <td>2.113249e+16</td>\n",
       "      <td>6.445102e+02</td>\n",
       "      <td>4.016694e+06</td>\n",
       "      <td>1.219169e+01</td>\n",
       "      <td>3.166559</td>\n",
       "      <td>-5.490579e+01</td>\n",
       "      <td>-1.162119e+02</td>\n",
       "      <td>4.584098e+02</td>\n",
       "      <td>3.855860e+02</td>\n",
       "      <td>3.471003e+03</td>\n",
       "      <td>1.370037e-01</td>\n",
       "      <td>1.202047e-01</td>\n",
       "      <td>9.293778e-01</td>\n",
       "    </tr>\n",
       "    <tr>\n",
       "      <th>std</th>\n",
       "      <td>5.712953e+14</td>\n",
       "      <td>5.457880e+02</td>\n",
       "      <td>3.127032e+07</td>\n",
       "      <td>6.497789e+00</td>\n",
       "      <td>2.063291</td>\n",
       "      <td>5.202926e+02</td>\n",
       "      <td>2.184710e+02</td>\n",
       "      <td>2.479389e+02</td>\n",
       "      <td>1.298166e+02</td>\n",
       "      <td>4.602024e+05</td>\n",
       "      <td>3.438513e-01</td>\n",
       "      <td>3.252008e-01</td>\n",
       "      <td>2.561926e-01</td>\n",
       "    </tr>\n",
       "    <tr>\n",
       "      <th>min</th>\n",
       "      <td>2.009031e+16</td>\n",
       "      <td>0.000000e+00</td>\n",
       "      <td>0.000000e+00</td>\n",
       "      <td>0.000000e+00</td>\n",
       "      <td>0.000000</td>\n",
       "      <td>-1.992355e+03</td>\n",
       "      <td>-9.181623e+02</td>\n",
       "      <td>0.000000e+00</td>\n",
       "      <td>0.000000e+00</td>\n",
       "      <td>0.000000e+00</td>\n",
       "      <td>0.000000e+00</td>\n",
       "      <td>0.000000e+00</td>\n",
       "      <td>0.000000e+00</td>\n",
       "    </tr>\n",
       "    <tr>\n",
       "      <th>25%</th>\n",
       "      <td>2.101022e+16</td>\n",
       "      <td>2.880000e+02</td>\n",
       "      <td>4.397000e+05</td>\n",
       "      <td>6.000000e+00</td>\n",
       "      <td>1.000000</td>\n",
       "      <td>-3.528395e+02</td>\n",
       "      <td>-2.127183e+02</td>\n",
       "      <td>2.690000e+02</td>\n",
       "      <td>3.040000e+02</td>\n",
       "      <td>9.900000e+01</td>\n",
       "      <td>0.000000e+00</td>\n",
       "      <td>0.000000e+00</td>\n",
       "      <td>1.000000e+00</td>\n",
       "    </tr>\n",
       "    <tr>\n",
       "      <th>50%</th>\n",
       "      <td>2.104021e+16</td>\n",
       "      <td>5.950000e+02</td>\n",
       "      <td>1.014801e+06</td>\n",
       "      <td>1.300000e+01</td>\n",
       "      <td>3.000000</td>\n",
       "      <td>-1.116280e+01</td>\n",
       "      <td>-9.760534e+01</td>\n",
       "      <td>4.470000e+02</td>\n",
       "      <td>3.970000e+02</td>\n",
       "      <td>4.190000e+02</td>\n",
       "      <td>0.000000e+00</td>\n",
       "      <td>0.000000e+00</td>\n",
       "      <td>1.000000e+00</td>\n",
       "    </tr>\n",
       "    <tr>\n",
       "      <th>75%</th>\n",
       "      <td>2.110052e+16</td>\n",
       "      <td>8.960000e+02</td>\n",
       "      <td>1.747040e+06</td>\n",
       "      <td>1.800000e+01</td>\n",
       "      <td>5.000000</td>\n",
       "      <td>2.966515e+02</td>\n",
       "      <td>2.268786e+01</td>\n",
       "      <td>6.630000e+02</td>\n",
       "      <td>4.710000e+02</td>\n",
       "      <td>1.266000e+03</td>\n",
       "      <td>0.000000e+00</td>\n",
       "      <td>0.000000e+00</td>\n",
       "      <td>1.000000e+00</td>\n",
       "    </tr>\n",
       "    <tr>\n",
       "      <th>max</th>\n",
       "      <td>2.210022e+16</td>\n",
       "      <td>2.047300e+04</td>\n",
       "      <td>1.988607e+09</td>\n",
       "      <td>2.200000e+01</td>\n",
       "      <td>6.000000</td>\n",
       "      <td>1.261774e+03</td>\n",
       "      <td>5.436164e+02</td>\n",
       "      <td>1.919000e+03</td>\n",
       "      <td>1.440000e+03</td>\n",
       "      <td>2.451637e+08</td>\n",
       "      <td>1.000000e+00</td>\n",
       "      <td>1.000000e+00</td>\n",
       "      <td>1.000000e+00</td>\n",
       "    </tr>\n",
       "  </tbody>\n",
       "</table>\n",
       "</div>"
      ],
      "text/plain": [
       "         session_id         index  elapsed_time         level           page  \\\n",
       "count  2.629695e+07  2.629695e+07  2.629695e+07  2.629695e+07  564544.000000   \n",
       "mean   2.113249e+16  6.445102e+02  4.016694e+06  1.219169e+01       3.166559   \n",
       "std    5.712953e+14  5.457880e+02  3.127032e+07  6.497789e+00       2.063291   \n",
       "min    2.009031e+16  0.000000e+00  0.000000e+00  0.000000e+00       0.000000   \n",
       "25%    2.101022e+16  2.880000e+02  4.397000e+05  6.000000e+00       1.000000   \n",
       "50%    2.104021e+16  5.950000e+02  1.014801e+06  1.300000e+01       3.000000   \n",
       "75%    2.110052e+16  8.960000e+02  1.747040e+06  1.800000e+01       5.000000   \n",
       "max    2.210022e+16  2.047300e+04  1.988607e+09  2.200000e+01       6.000000   \n",
       "\n",
       "        room_coor_x   room_coor_y  screen_coor_x  screen_coor_y  \\\n",
       "count  2.422367e+07  2.422367e+07   2.422367e+07   2.422367e+07   \n",
       "mean  -5.490579e+01 -1.162119e+02   4.584098e+02   3.855860e+02   \n",
       "std    5.202926e+02  2.184710e+02   2.479389e+02   1.298166e+02   \n",
       "min   -1.992355e+03 -9.181623e+02   0.000000e+00   0.000000e+00   \n",
       "25%   -3.528395e+02 -2.127183e+02   2.690000e+02   3.040000e+02   \n",
       "50%   -1.116280e+01 -9.760534e+01   4.470000e+02   3.970000e+02   \n",
       "75%    2.966515e+02  2.268786e+01   6.630000e+02   4.710000e+02   \n",
       "max    1.261774e+03  5.436164e+02   1.919000e+03   1.440000e+03   \n",
       "\n",
       "       hover_duration    fullscreen            hq         music  \n",
       "count    2.002244e+06  2.629695e+07  2.629695e+07  2.629695e+07  \n",
       "mean     3.471003e+03  1.370037e-01  1.202047e-01  9.293778e-01  \n",
       "std      4.602024e+05  3.438513e-01  3.252008e-01  2.561926e-01  \n",
       "min      0.000000e+00  0.000000e+00  0.000000e+00  0.000000e+00  \n",
       "25%      9.900000e+01  0.000000e+00  0.000000e+00  1.000000e+00  \n",
       "50%      4.190000e+02  0.000000e+00  0.000000e+00  1.000000e+00  \n",
       "75%      1.266000e+03  0.000000e+00  0.000000e+00  1.000000e+00  \n",
       "max      2.451637e+08  1.000000e+00  1.000000e+00  1.000000e+00  "
      ]
     },
     "execution_count": 8,
     "metadata": {},
     "output_type": "execute_result"
    }
   ],
   "source": [
    "df.describe()"
   ]
  },
  {
   "cell_type": "code",
   "execution_count": 9,
   "id": "a1ee2a00",
   "metadata": {
    "colab": {
     "base_uri": "https://localhost:8080/",
     "height": 206
    },
    "executionInfo": {
     "elapsed": 10,
     "status": "ok",
     "timestamp": 1681892478344,
     "user": {
      "displayName": "Kavya",
      "userId": "12727244976835915726"
     },
     "user_tz": 420
    },
    "id": "a1ee2a00",
    "outputId": "b91b5391-5e5d-4676-97fe-63664588b656"
   },
   "outputs": [
    {
     "data": {
      "text/html": [
       "<div>\n",
       "<style scoped>\n",
       "    .dataframe tbody tr th:only-of-type {\n",
       "        vertical-align: middle;\n",
       "    }\n",
       "\n",
       "    .dataframe tbody tr th {\n",
       "        vertical-align: top;\n",
       "    }\n",
       "\n",
       "    .dataframe thead th {\n",
       "        text-align: right;\n",
       "    }\n",
       "</style>\n",
       "<table border=\"1\" class=\"dataframe\">\n",
       "  <thead>\n",
       "    <tr style=\"text-align: right;\">\n",
       "      <th></th>\n",
       "      <th>session_id</th>\n",
       "      <th>correct</th>\n",
       "    </tr>\n",
       "  </thead>\n",
       "  <tbody>\n",
       "    <tr>\n",
       "      <th>0</th>\n",
       "      <td>20090312431273200_q1</td>\n",
       "      <td>1</td>\n",
       "    </tr>\n",
       "    <tr>\n",
       "      <th>1</th>\n",
       "      <td>20090312433251036_q1</td>\n",
       "      <td>0</td>\n",
       "    </tr>\n",
       "    <tr>\n",
       "      <th>2</th>\n",
       "      <td>20090312455206810_q1</td>\n",
       "      <td>1</td>\n",
       "    </tr>\n",
       "    <tr>\n",
       "      <th>3</th>\n",
       "      <td>20090313091715820_q1</td>\n",
       "      <td>0</td>\n",
       "    </tr>\n",
       "    <tr>\n",
       "      <th>4</th>\n",
       "      <td>20090313571836404_q1</td>\n",
       "      <td>1</td>\n",
       "    </tr>\n",
       "  </tbody>\n",
       "</table>\n",
       "</div>"
      ],
      "text/plain": [
       "             session_id  correct\n",
       "0  20090312431273200_q1        1\n",
       "1  20090312433251036_q1        0\n",
       "2  20090312455206810_q1        1\n",
       "3  20090313091715820_q1        0\n",
       "4  20090313571836404_q1        1"
      ]
     },
     "execution_count": 9,
     "metadata": {},
     "output_type": "execute_result"
    }
   ],
   "source": [
    "labels.head()"
   ]
  },
  {
   "cell_type": "code",
   "execution_count": 10,
   "id": "0cab13b8",
   "metadata": {
    "colab": {
     "base_uri": "https://localhost:8080/"
    },
    "executionInfo": {
     "elapsed": 321,
     "status": "ok",
     "timestamp": 1681892478655,
     "user": {
      "displayName": "Kavya",
      "userId": "12727244976835915726"
     },
     "user_tz": 420
    },
    "id": "0cab13b8",
    "outputId": "fc1aed3b-cbd8-469a-f53a-3eac403fad54"
   },
   "outputs": [
    {
     "data": {
      "text/plain": [
       "<bound method DataFrame.info of                    session_id  correct\n",
       "0        20090312431273200_q1        1\n",
       "1        20090312433251036_q1        0\n",
       "2        20090312455206810_q1        1\n",
       "3        20090313091715820_q1        0\n",
       "4        20090313571836404_q1        1\n",
       "...                       ...      ...\n",
       "424111  22100215342220508_q18        1\n",
       "424112  22100215460321130_q18        1\n",
       "424113  22100217104993650_q18        1\n",
       "424114  22100219442786200_q18        1\n",
       "424115  22100221145014656_q18        1\n",
       "\n",
       "[424116 rows x 2 columns]>"
      ]
     },
     "execution_count": 10,
     "metadata": {},
     "output_type": "execute_result"
    }
   ],
   "source": [
    "labels.info"
   ]
  },
  {
   "cell_type": "code",
   "execution_count": 11,
   "id": "G1C8XaPAVY--",
   "metadata": {
    "colab": {
     "base_uri": "https://localhost:8080/",
     "height": 300
    },
    "executionInfo": {
     "elapsed": 5,
     "status": "ok",
     "timestamp": 1681892478656,
     "user": {
      "displayName": "Kavya",
      "userId": "12727244976835915726"
     },
     "user_tz": 420
    },
    "id": "G1C8XaPAVY--",
    "outputId": "89129b86-51e6-438b-e4c7-682112717f70"
   },
   "outputs": [
    {
     "data": {
      "text/html": [
       "<div>\n",
       "<style scoped>\n",
       "    .dataframe tbody tr th:only-of-type {\n",
       "        vertical-align: middle;\n",
       "    }\n",
       "\n",
       "    .dataframe tbody tr th {\n",
       "        vertical-align: top;\n",
       "    }\n",
       "\n",
       "    .dataframe thead th {\n",
       "        text-align: right;\n",
       "    }\n",
       "</style>\n",
       "<table border=\"1\" class=\"dataframe\">\n",
       "  <thead>\n",
       "    <tr style=\"text-align: right;\">\n",
       "      <th></th>\n",
       "      <th>correct</th>\n",
       "    </tr>\n",
       "  </thead>\n",
       "  <tbody>\n",
       "    <tr>\n",
       "      <th>count</th>\n",
       "      <td>424116.000000</td>\n",
       "    </tr>\n",
       "    <tr>\n",
       "      <th>mean</th>\n",
       "      <td>0.705635</td>\n",
       "    </tr>\n",
       "    <tr>\n",
       "      <th>std</th>\n",
       "      <td>0.455757</td>\n",
       "    </tr>\n",
       "    <tr>\n",
       "      <th>min</th>\n",
       "      <td>0.000000</td>\n",
       "    </tr>\n",
       "    <tr>\n",
       "      <th>25%</th>\n",
       "      <td>0.000000</td>\n",
       "    </tr>\n",
       "    <tr>\n",
       "      <th>50%</th>\n",
       "      <td>1.000000</td>\n",
       "    </tr>\n",
       "    <tr>\n",
       "      <th>75%</th>\n",
       "      <td>1.000000</td>\n",
       "    </tr>\n",
       "    <tr>\n",
       "      <th>max</th>\n",
       "      <td>1.000000</td>\n",
       "    </tr>\n",
       "  </tbody>\n",
       "</table>\n",
       "</div>"
      ],
      "text/plain": [
       "             correct\n",
       "count  424116.000000\n",
       "mean        0.705635\n",
       "std         0.455757\n",
       "min         0.000000\n",
       "25%         0.000000\n",
       "50%         1.000000\n",
       "75%         1.000000\n",
       "max         1.000000"
      ]
     },
     "execution_count": 11,
     "metadata": {},
     "output_type": "execute_result"
    }
   ],
   "source": [
    "labels.describe()"
   ]
  },
  {
   "cell_type": "markdown",
   "id": "d3c460fa",
   "metadata": {},
   "source": [
    "**splitting the session id and question number in the labels**"
   ]
  },
  {
   "cell_type": "code",
   "execution_count": 12,
   "id": "LWwe4n0zmNJ9",
   "metadata": {
    "executionInfo": {
     "elapsed": 670,
     "status": "ok",
     "timestamp": 1681892479322,
     "user": {
      "displayName": "Kavya",
      "userId": "12727244976835915726"
     },
     "user_tz": 420
    },
    "id": "LWwe4n0zmNJ9"
   },
   "outputs": [],
   "source": [
    "labels[\"session\"] = labels[\"session_id\"].apply(lambda x:int(x.split('_')[0]))\n",
    "labels[\"question\"] = labels[\"session_id\"].apply(lambda x:int(x.split('_')[1][1:]))\n",
    "labels = labels.drop(['session_id'], axis = 'columns')"
   ]
  },
  {
   "cell_type": "code",
   "execution_count": 13,
   "id": "f5bf931a",
   "metadata": {},
   "outputs": [
    {
     "data": {
      "text/html": [
       "<div>\n",
       "<style scoped>\n",
       "    .dataframe tbody tr th:only-of-type {\n",
       "        vertical-align: middle;\n",
       "    }\n",
       "\n",
       "    .dataframe tbody tr th {\n",
       "        vertical-align: top;\n",
       "    }\n",
       "\n",
       "    .dataframe thead th {\n",
       "        text-align: right;\n",
       "    }\n",
       "</style>\n",
       "<table border=\"1\" class=\"dataframe\">\n",
       "  <thead>\n",
       "    <tr style=\"text-align: right;\">\n",
       "      <th></th>\n",
       "      <th>correct</th>\n",
       "      <th>session</th>\n",
       "      <th>question</th>\n",
       "    </tr>\n",
       "  </thead>\n",
       "  <tbody>\n",
       "    <tr>\n",
       "      <th>0</th>\n",
       "      <td>1</td>\n",
       "      <td>20090312431273200</td>\n",
       "      <td>1</td>\n",
       "    </tr>\n",
       "    <tr>\n",
       "      <th>1</th>\n",
       "      <td>0</td>\n",
       "      <td>20090312433251036</td>\n",
       "      <td>1</td>\n",
       "    </tr>\n",
       "    <tr>\n",
       "      <th>2</th>\n",
       "      <td>1</td>\n",
       "      <td>20090312455206810</td>\n",
       "      <td>1</td>\n",
       "    </tr>\n",
       "    <tr>\n",
       "      <th>3</th>\n",
       "      <td>0</td>\n",
       "      <td>20090313091715820</td>\n",
       "      <td>1</td>\n",
       "    </tr>\n",
       "    <tr>\n",
       "      <th>4</th>\n",
       "      <td>1</td>\n",
       "      <td>20090313571836404</td>\n",
       "      <td>1</td>\n",
       "    </tr>\n",
       "  </tbody>\n",
       "</table>\n",
       "</div>"
      ],
      "text/plain": [
       "   correct            session  question\n",
       "0        1  20090312431273200         1\n",
       "1        0  20090312433251036         1\n",
       "2        1  20090312455206810         1\n",
       "3        0  20090313091715820         1\n",
       "4        1  20090313571836404         1"
      ]
     },
     "execution_count": 13,
     "metadata": {},
     "output_type": "execute_result"
    }
   ],
   "source": [
    "labels.head()"
   ]
  },
  {
   "cell_type": "code",
   "execution_count": 14,
   "id": "4ac32f78",
   "metadata": {},
   "outputs": [
    {
     "data": {
      "text/html": [
       "<div>\n",
       "<style scoped>\n",
       "    .dataframe tbody tr th:only-of-type {\n",
       "        vertical-align: middle;\n",
       "    }\n",
       "\n",
       "    .dataframe tbody tr th {\n",
       "        vertical-align: top;\n",
       "    }\n",
       "\n",
       "    .dataframe thead th {\n",
       "        text-align: right;\n",
       "    }\n",
       "</style>\n",
       "<table border=\"1\" class=\"dataframe\">\n",
       "  <thead>\n",
       "    <tr style=\"text-align: right;\">\n",
       "      <th></th>\n",
       "      <th>correct</th>\n",
       "      <th>session</th>\n",
       "      <th>question</th>\n",
       "    </tr>\n",
       "  </thead>\n",
       "  <tbody>\n",
       "    <tr>\n",
       "      <th>0</th>\n",
       "      <td>1</td>\n",
       "      <td>20090312431273200</td>\n",
       "      <td>1</td>\n",
       "    </tr>\n",
       "    <tr>\n",
       "      <th>1</th>\n",
       "      <td>0</td>\n",
       "      <td>20090312433251036</td>\n",
       "      <td>1</td>\n",
       "    </tr>\n",
       "    <tr>\n",
       "      <th>2</th>\n",
       "      <td>1</td>\n",
       "      <td>20090312455206810</td>\n",
       "      <td>1</td>\n",
       "    </tr>\n",
       "    <tr>\n",
       "      <th>3</th>\n",
       "      <td>0</td>\n",
       "      <td>20090313091715820</td>\n",
       "      <td>1</td>\n",
       "    </tr>\n",
       "    <tr>\n",
       "      <th>4</th>\n",
       "      <td>1</td>\n",
       "      <td>20090313571836404</td>\n",
       "      <td>1</td>\n",
       "    </tr>\n",
       "    <tr>\n",
       "      <th>...</th>\n",
       "      <td>...</td>\n",
       "      <td>...</td>\n",
       "      <td>...</td>\n",
       "    </tr>\n",
       "    <tr>\n",
       "      <th>424111</th>\n",
       "      <td>1</td>\n",
       "      <td>22100215342220508</td>\n",
       "      <td>18</td>\n",
       "    </tr>\n",
       "    <tr>\n",
       "      <th>424112</th>\n",
       "      <td>1</td>\n",
       "      <td>22100215460321130</td>\n",
       "      <td>18</td>\n",
       "    </tr>\n",
       "    <tr>\n",
       "      <th>424113</th>\n",
       "      <td>1</td>\n",
       "      <td>22100217104993650</td>\n",
       "      <td>18</td>\n",
       "    </tr>\n",
       "    <tr>\n",
       "      <th>424114</th>\n",
       "      <td>1</td>\n",
       "      <td>22100219442786200</td>\n",
       "      <td>18</td>\n",
       "    </tr>\n",
       "    <tr>\n",
       "      <th>424115</th>\n",
       "      <td>1</td>\n",
       "      <td>22100221145014656</td>\n",
       "      <td>18</td>\n",
       "    </tr>\n",
       "  </tbody>\n",
       "</table>\n",
       "<p>424116 rows × 3 columns</p>\n",
       "</div>"
      ],
      "text/plain": [
       "        correct            session  question\n",
       "0             1  20090312431273200         1\n",
       "1             0  20090312433251036         1\n",
       "2             1  20090312455206810         1\n",
       "3             0  20090313091715820         1\n",
       "4             1  20090313571836404         1\n",
       "...         ...                ...       ...\n",
       "424111        1  22100215342220508        18\n",
       "424112        1  22100215460321130        18\n",
       "424113        1  22100217104993650        18\n",
       "424114        1  22100219442786200        18\n",
       "424115        1  22100221145014656        18\n",
       "\n",
       "[424116 rows x 3 columns]"
      ]
     },
     "execution_count": 14,
     "metadata": {},
     "output_type": "execute_result"
    }
   ],
   "source": [
    "labels"
   ]
  },
  {
   "cell_type": "markdown",
   "id": "696e3cc6",
   "metadata": {},
   "source": [
    "### Data Correlation"
   ]
  },
  {
   "cell_type": "code",
   "execution_count": 15,
   "id": "13b12b9e",
   "metadata": {
    "colab": {
     "base_uri": "https://localhost:8080/",
     "height": 1000
    },
    "executionInfo": {
     "elapsed": 826,
     "status": "ok",
     "timestamp": 1681892480144,
     "user": {
      "displayName": "Kavya",
      "userId": "12727244976835915726"
     },
     "user_tz": 420
    },
    "id": "13b12b9e",
    "outputId": "ebfd4d6f-e807-45db-afa3-4eabceda2a6a"
   },
   "outputs": [
    {
     "data": {
      "text/plain": [
       "<AxesSubplot:title={'center':'Correlation amongst data points in the training dataset'}>"
      ]
     },
     "execution_count": 15,
     "metadata": {},
     "output_type": "execute_result"
    },
    {
     "data": {
      "image/png": "[encoded data removed]",
      "text/plain": [
       "<Figure size 2000x1500 with 2 Axes>"
      ]
     },
     "metadata": {},
     "output_type": "display_data"
    }
   ],
   "source": [
    "# sns.heatmap(df.corr(), cmap=\"YlGnBu\", annot=True)\n",
    "\n",
    "plt.subplots(figsize=(20,15))\n",
    "plt.title(\"Correlation amongst data points in the training dataset\")\n",
    "sns.heatmap(df.corr(), cmap=\"YlGnBu\", annot=True)"
   ]
  },
  {
   "cell_type": "code",
   "execution_count": 16,
   "id": "d9b6e5f3",
   "metadata": {},
   "outputs": [
    {
     "data": {
      "text/plain": [
       "<bound method Series.unique of 0                        tunic.historicalsociety.closet.intro\n",
       "1           tunic.historicalsociety.closet.gramps.intro_0_...\n",
       "2           tunic.historicalsociety.closet.gramps.intro_0_...\n",
       "3           tunic.historicalsociety.closet.gramps.intro_0_...\n",
       "4           tunic.historicalsociety.closet.gramps.intro_0_...\n",
       "                                  ...                        \n",
       "26296941                                                  NaN\n",
       "26296942                                                  NaN\n",
       "26296943                                                  NaN\n",
       "26296944                                                  NaN\n",
       "26296945                                                  NaN\n",
       "Name: text_fqid, Length: 26296946, dtype: object>"
      ]
     },
     "execution_count": 16,
     "metadata": {},
     "output_type": "execute_result"
    }
   ],
   "source": [
    "df['text_fqid'].unique"
   ]
  },
  {
   "cell_type": "code",
   "execution_count": 17,
   "id": "0d6d4d74",
   "metadata": {},
   "outputs": [],
   "source": [
    "# plt.boxplot(df[\"text\"].astype(str) ,df[\"text_fqid\"].astype(str))"
   ]
  },
  {
   "cell_type": "code",
   "execution_count": 18,
   "id": "b1aa5fa5",
   "metadata": {},
   "outputs": [
    {
     "data": {
      "text/plain": [
       "<AxesSubplot:title={'center':'Correlation amongst data points in the Labels dataset'}>"
      ]
     },
     "execution_count": 18,
     "metadata": {},
     "output_type": "execute_result"
    },
    {
     "data": {
      "image/png": "[encoded data removed]",
      "text/plain": [
       "<Figure size 2000x1500 with 2 Axes>"
      ]
     },
     "metadata": {},
     "output_type": "display_data"
    }
   ],
   "source": [
    "plt.subplots(figsize=(20,15))\n",
    "plt.title(\"Correlation amongst data points in the Labels dataset\")\n",
    "sns.heatmap(labels.corr(), cmap=\"YlGnBu\", annot=True)"
   ]
  },
  {
   "cell_type": "markdown",
   "id": "ef26e38c",
   "metadata": {},
   "source": [
    "### Checking the data distribution in the training set for skewness"
   ]
  },
  {
   "cell_type": "code",
   "execution_count": 19,
   "id": "084aed7b",
   "metadata": {
    "colab": {
     "base_uri": "https://localhost:8080/",
     "height": 991
    },
    "executionInfo": {
     "elapsed": 5324,
     "status": "ok",
     "timestamp": 1681892485463,
     "user": {
      "displayName": "Kavya",
      "userId": "12727244976835915726"
     },
     "user_tz": 420
    },
    "id": "084aed7b",
    "outputId": "4e6da7e2-6cbf-4ccc-81f6-e90bfddfc0c7"
   },
   "outputs": [
    {
     "data": {
      "text/plain": [
       "array([[<AxesSubplot:title={'center':'session_id'}>,\n",
       "        <AxesSubplot:title={'center':'index'}>,\n",
       "        <AxesSubplot:title={'center':'elapsed_time'}>,\n",
       "        <AxesSubplot:title={'center':'level'}>],\n",
       "       [<AxesSubplot:title={'center':'page'}>,\n",
       "        <AxesSubplot:title={'center':'room_coor_x'}>,\n",
       "        <AxesSubplot:title={'center':'room_coor_y'}>,\n",
       "        <AxesSubplot:title={'center':'screen_coor_x'}>],\n",
       "       [<AxesSubplot:title={'center':'screen_coor_y'}>,\n",
       "        <AxesSubplot:title={'center':'hover_duration'}>,\n",
       "        <AxesSubplot:title={'center':'fullscreen'}>,\n",
       "        <AxesSubplot:title={'center':'hq'}>],\n",
       "       [<AxesSubplot:title={'center':'music'}>, <AxesSubplot:>,\n",
       "        <AxesSubplot:>, <AxesSubplot:>]], dtype=object)"
      ]
     },
     "execution_count": 19,
     "metadata": {},
     "output_type": "execute_result"
    },
    {
     "data": {
      "image/png": "[encoded data removed]",
      "text/plain": [
       "<Figure size 3500x2000 with 16 Axes>"
      ]
     },
     "metadata": {},
     "output_type": "display_data"
    }
   ],
   "source": [
    "fig = plt.figure(figsize = (35,20))\n",
    "ax = fig.gca()\n",
    "df.hist(ax = ax)"
   ]
  },
  {
   "cell_type": "markdown",
   "id": "n1p0tnqShLii",
   "metadata": {
    "id": "n1p0tnqShLii"
   },
   "source": [
    "**Checking missing values**"
   ]
  },
  {
   "cell_type": "code",
   "execution_count": 20,
   "id": "QgCU7hfanPK4",
   "metadata": {
    "colab": {
     "base_uri": "https://localhost:8080/"
    },
    "executionInfo": {
     "elapsed": 173,
     "status": "ok",
     "timestamp": 1681892644896,
     "user": {
      "displayName": "Kavya",
      "userId": "12727244976835915726"
     },
     "user_tz": 420
    },
    "id": "QgCU7hfanPK4",
    "outputId": "46fc44a7-9045-43ca-80eb-3cdac91de50b"
   },
   "outputs": [
    {
     "name": "stdout",
     "output_type": "stream",
     "text": [
      "Feature \t Number of missing values\n",
      " session_id               0\n",
      "index                    0\n",
      "elapsed_time             0\n",
      "event_name               0\n",
      "name                     0\n",
      "level                    0\n",
      "page              25732402\n",
      "room_coor_x        2073272\n",
      "room_coor_y        2073272\n",
      "screen_coor_x      2073272\n",
      "screen_coor_y      2073272\n",
      "hover_duration    24294702\n",
      "text              16679807\n",
      "fqid               8274415\n",
      "room_fqid                0\n",
      "text_fqid         16679702\n",
      "fullscreen               0\n",
      "hq                       0\n",
      "music                    0\n",
      "level_group              0\n",
      "dtype: int64\n"
     ]
    }
   ],
   "source": [
    "# Finding the number of missing values in different features of the dataset\n",
    "print(\"Feature \\t Number of missing values\\n\", df.isnull().sum())"
   ]
  },
  {
   "cell_type": "code",
   "execution_count": 21,
   "id": "61bfd9a5",
   "metadata": {},
   "outputs": [],
   "source": [
    "#Using Mean(Replacing null with mean values) Imputation method to handle null values in numerical columns\n",
    "# Define the imputer object\n",
    "num_imputer=SimpleImputer(strategy='mean')\n",
    "# Impute the missing values in the LoanAmount column\n",
    "df['hover_duration'] = num_imputer.fit_transform(df[['hover_duration']])"
   ]
  },
  {
   "cell_type": "code",
   "execution_count": 22,
   "id": "c53f5ede",
   "metadata": {},
   "outputs": [],
   "source": [
    "#Using most frequent(Replacing null with mode values) Imputation method to handle null values in categorical columns\n",
    "# Define the imputer object\n",
    "cat_imputer=SimpleImputer(strategy=\"most_frequent\")\n",
    "\n",
    "# Impute the missing values in the Credit_History column\n",
    "df['page'] = cat_imputer.fit_transform(df[['page']])"
   ]
  },
  {
   "cell_type": "code",
   "execution_count": 23,
   "id": "6ca3b0e8",
   "metadata": {},
   "outputs": [],
   "source": [
    "#Using most frequent(Replacing null with mode values) Imputation method to handle null values in categorical columns\n",
    "# Define the imputer object\n",
    "const_imputer=SimpleImputer(strategy=\"constant\", fill_value=0)\n",
    "\n",
    "# Impute the missing values in the Credit_History column\n",
    "df['text'] = const_imputer.fit_transform(df[['page']])"
   ]
  },
  {
   "cell_type": "code",
   "execution_count": 24,
   "id": "147ca425",
   "metadata": {},
   "outputs": [],
   "source": [
    "#Using most frequent(Replacing null with mode values) Imputation method to handle null values in categorical columns\n",
    "# Define the imputer object\n",
    "cat_imputer=SimpleImputer(strategy=\"most_frequent\")\n",
    "\n",
    "# Impute the missing values in the Credit_History column\n",
    "df['room_coor_x'] = cat_imputer.fit_transform(df[['room_coor_x']])"
   ]
  },
  {
   "cell_type": "code",
   "execution_count": 25,
   "id": "bac3c367",
   "metadata": {},
   "outputs": [],
   "source": [
    "#Using most frequent(Replacing null with mode values) Imputation method to handle null values in categorical columns\n",
    "# Define the imputer object\n",
    "cat_imputer=SimpleImputer(strategy=\"most_frequent\")\n",
    "\n",
    "# Impute the missing values in the Credit_History column\n",
    "df['room_coor_y'] = cat_imputer.fit_transform(df[['room_coor_y']])"
   ]
  },
  {
   "cell_type": "code",
   "execution_count": 26,
   "id": "c0bfcdff",
   "metadata": {},
   "outputs": [],
   "source": [
    "#Using most frequent(Replacing null with mode values) Imputation method to handle null values in categorical columns\n",
    "# Define the imputer object\n",
    "cat_imputer=SimpleImputer(strategy=\"most_frequent\")\n",
    "\n",
    "# Impute the missing values in the Credit_History column\n",
    "df['screen_coor_x'] = cat_imputer.fit_transform(df[['screen_coor_x']])"
   ]
  },
  {
   "cell_type": "code",
   "execution_count": 27,
   "id": "ea0f932c",
   "metadata": {},
   "outputs": [],
   "source": [
    "#Using most frequent(Replacing null with mode values) Imputation method to handle null values in categorical columns\n",
    "# Define the imputer object\n",
    "cat_imputer=SimpleImputer(strategy=\"most_frequent\")\n",
    "\n",
    "# Impute the missing values in the Credit_History column\n",
    "df['screen_coor_y'] = cat_imputer.fit_transform(df[['screen_coor_y']])"
   ]
  },
  {
   "cell_type": "code",
   "execution_count": 28,
   "id": "5e2b6bce",
   "metadata": {},
   "outputs": [],
   "source": [
    "#Using most frequent(Replacing null with mode values) Imputation method to handle null values in categorical columns\n",
    "# Define the imputer object\n",
    "cat_imputer=SimpleImputer(strategy=\"most_frequent\")\n",
    "\n",
    "# Impute the missing values in the Credit_History column\n",
    "df['fqid'] = cat_imputer.fit_transform(df[['fqid']])"
   ]
  },
  {
   "cell_type": "code",
   "execution_count": 29,
   "id": "b176a3fc",
   "metadata": {},
   "outputs": [],
   "source": [
    "#Using most frequent(Replacing null with mode values) Imputation method to handle null values in categorical columns\n",
    "# Define the imputer object\n",
    "cat_imputer=SimpleImputer(strategy=\"most_frequent\")\n",
    "\n",
    "# Impute the missing values in the Credit_History column\n",
    "df['text_fqid'] = cat_imputer.fit_transform(df[['text_fqid']])"
   ]
  },
  {
   "cell_type": "code",
   "execution_count": 30,
   "id": "41b059cb",
   "metadata": {},
   "outputs": [
    {
     "name": "stdout",
     "output_type": "stream",
     "text": [
      "Feature \t Number of missing values\n",
      " session_id        0\n",
      "index             0\n",
      "elapsed_time      0\n",
      "event_name        0\n",
      "name              0\n",
      "level             0\n",
      "page              0\n",
      "room_coor_x       0\n",
      "room_coor_y       0\n",
      "screen_coor_x     0\n",
      "screen_coor_y     0\n",
      "hover_duration    0\n",
      "text              0\n",
      "fqid              0\n",
      "room_fqid         0\n",
      "text_fqid         0\n",
      "fullscreen        0\n",
      "hq                0\n",
      "music             0\n",
      "level_group       0\n",
      "dtype: int64\n"
     ]
    }
   ],
   "source": [
    "# Finding the number of missing values in different features of the dataset\n",
    "print(\"Feature \\t Number of missing values\\n\", df.isnull().sum())"
   ]
  },
  {
   "cell_type": "code",
   "execution_count": 31,
   "id": "ae53bbab",
   "metadata": {},
   "outputs": [
    {
     "data": {
      "text/plain": [
       "session_id          int64\n",
       "index               int64\n",
       "elapsed_time        int64\n",
       "event_name         object\n",
       "name               object\n",
       "level               int64\n",
       "page              float64\n",
       "room_coor_x       float64\n",
       "room_coor_y       float64\n",
       "screen_coor_x     float64\n",
       "screen_coor_y     float64\n",
       "hover_duration    float64\n",
       "text              float64\n",
       "fqid               object\n",
       "room_fqid          object\n",
       "text_fqid          object\n",
       "fullscreen          int64\n",
       "hq                  int64\n",
       "music               int64\n",
       "level_group        object\n",
       "dtype: object"
      ]
     },
     "execution_count": 31,
     "metadata": {},
     "output_type": "execute_result"
    }
   ],
   "source": [
    "df.dtypes"
   ]
  },
  {
   "cell_type": "code",
   "execution_count": 32,
   "id": "d3250b3b",
   "metadata": {},
   "outputs": [],
   "source": [
    "label_encoder = preprocessing.LabelEncoder()"
   ]
  },
  {
   "cell_type": "code",
   "execution_count": 33,
   "id": "109b2715",
   "metadata": {},
   "outputs": [
    {
     "name": "stdout",
     "output_type": "stream",
     "text": [
      "['checkpoint' 'cutscene_click' 'map_click' 'map_hover' 'navigate_click'\n",
      " 'notebook_click' 'notification_click' 'object_click' 'object_hover'\n",
      " 'observation_click' 'person_click']\n"
     ]
    }
   ],
   "source": [
    "df['event_name']= label_encoder.fit_transform(df['event_name'])\n",
    "print(label_encoder.classes_)"
   ]
  },
  {
   "cell_type": "code",
   "execution_count": 34,
   "id": "7a07eb95",
   "metadata": {},
   "outputs": [
    {
     "name": "stdout",
     "output_type": "stream",
     "text": [
      "['basic' 'close' 'next' 'open' 'prev' 'undefined']\n"
     ]
    }
   ],
   "source": [
    "df['name']= label_encoder.fit_transform(df['name'])\n",
    "print(label_encoder.classes_)"
   ]
  },
  {
   "cell_type": "code",
   "execution_count": 35,
   "id": "a5c17389",
   "metadata": {},
   "outputs": [
    {
     "name": "stdout",
     "output_type": "stream",
     "text": [
      "[0. 1. 2. 3. 4. 5. 6.]\n"
     ]
    }
   ],
   "source": [
    "df['text']= label_encoder.fit_transform(df['text'])\n",
    "print(label_encoder.classes_)"
   ]
  },
  {
   "cell_type": "code",
   "execution_count": 36,
   "id": "f75ad63a",
   "metadata": {},
   "outputs": [
    {
     "name": "stdout",
     "output_type": "stream",
     "text": [
      "['archivist' 'archivist_glasses' 'block' 'block_0' 'block_1' 'block_badge'\n",
      " 'block_badge_2' 'block_magnify' 'block_nelson' 'block_tocollection'\n",
      " 'block_tomap1' 'block_tomap2' 'boss' 'businesscards'\n",
      " 'businesscards.card_0.next' 'businesscards.card_1.next'\n",
      " 'businesscards.card_bingo.bingo' 'businesscards.card_bingo.next'\n",
      " 'ch3start' 'chap1_finale' 'chap1_finale_c' 'chap2_finale'\n",
      " 'chap2_finale_c' 'chap4_finale_c' 'coffee' 'colorbook' 'confrontation'\n",
      " 'crane_ranger' 'cs' 'directory' 'directory.closeup.archivist'\n",
      " 'door_block_clean' 'door_block_talk' 'doorblock' 'expert' 'flag_girl'\n",
      " 'fox' 'glasses' 'gramps' 'groupconvo' 'groupconvo_flag' 'intro' 'janitor'\n",
      " 'journals' 'journals.hub.topics' 'journals.pic_0.next'\n",
      " 'journals.pic_1.next' 'journals.pic_2.bingo' 'journals.pic_2.next'\n",
      " 'journals_flag' 'journals_flag.hub.topics' 'journals_flag.hub.topics_old'\n",
      " 'journals_flag.pic_0.bingo' 'journals_flag.pic_0.next'\n",
      " 'journals_flag.pic_0_old.next' 'journals_flag.pic_1.bingo'\n",
      " 'journals_flag.pic_1.next' 'journals_flag.pic_1_old.next'\n",
      " 'journals_flag.pic_2.bingo' 'journals_flag.pic_2.next'\n",
      " 'journals_flag.pic_2_old.next' 'key' 'lockeddoor' 'logbook'\n",
      " 'logbook.page.bingo' 'magnify' 'need_glasses' 'notebook' 'outtolunch'\n",
      " 'photo' 'plaque' 'plaque.face.date' 'reader' 'reader.paper0.next'\n",
      " 'reader.paper0.prev' 'reader.paper1.next' 'reader.paper1.prev'\n",
      " 'reader.paper2.bingo' 'reader.paper2.next' 'reader.paper2.prev'\n",
      " 'reader_flag' 'reader_flag.paper0.next' 'reader_flag.paper0.prev'\n",
      " 'reader_flag.paper1.next' 'reader_flag.paper1.prev'\n",
      " 'reader_flag.paper2.bingo' 'reader_flag.paper2.next'\n",
      " 'reader_flag.paper2.prev' 'remove_cup' 'report' 'retirement_letter'\n",
      " 'savedteddy' 'seescratches' 'teddy' 'tobasement' 'tocage' 'tocloset'\n",
      " 'tocloset_dirty' 'tocollection' 'tocollectionflag' 'toentry'\n",
      " 'tofrontdesk' 'togrampa' 'tohallway' 'tomap' 'tomicrofiche' 'tostacks'\n",
      " 'tracks' 'tracks.hub.deer' 'trigger_coffee' 'trigger_scarf' 'tunic'\n",
      " 'tunic.capitol_0' 'tunic.capitol_1' 'tunic.capitol_2' 'tunic.drycleaner'\n",
      " 'tunic.flaghouse' 'tunic.historicalsociety' 'tunic.hub.slip'\n",
      " 'tunic.humanecology' 'tunic.kohlcenter' 'tunic.library' 'tunic.wildlife'\n",
      " 'unlockdoor' 'wells' 'wellsbadge' 'what_happened' 'worker']\n"
     ]
    }
   ],
   "source": [
    "df['fqid']= label_encoder.fit_transform(df['fqid'])\n",
    "print(label_encoder.classes_)"
   ]
  },
  {
   "cell_type": "code",
   "execution_count": 37,
   "id": "1302e256",
   "metadata": {},
   "outputs": [
    {
     "name": "stdout",
     "output_type": "stream",
     "text": [
      "['tunic.capitol_0.hall' 'tunic.capitol_1.hall' 'tunic.capitol_2.hall'\n",
      " 'tunic.drycleaner.frontdesk' 'tunic.flaghouse.entry'\n",
      " 'tunic.historicalsociety.basement' 'tunic.historicalsociety.cage'\n",
      " 'tunic.historicalsociety.closet' 'tunic.historicalsociety.closet_dirty'\n",
      " 'tunic.historicalsociety.collection'\n",
      " 'tunic.historicalsociety.collection_flag' 'tunic.historicalsociety.entry'\n",
      " 'tunic.historicalsociety.frontdesk' 'tunic.historicalsociety.stacks'\n",
      " 'tunic.humanecology.frontdesk' 'tunic.kohlcenter.halloffame'\n",
      " 'tunic.library.frontdesk' 'tunic.library.microfiche'\n",
      " 'tunic.wildlife.center']\n"
     ]
    }
   ],
   "source": [
    "df['room_fqid']= label_encoder.fit_transform(df['room_fqid'])\n",
    "print(label_encoder.classes_)"
   ]
  },
  {
   "cell_type": "code",
   "execution_count": 38,
   "id": "f0fc7322",
   "metadata": {},
   "outputs": [
    {
     "name": "stdout",
     "output_type": "stream",
     "text": [
      "['tunic.capitol_0.hall.boss.talktogramps'\n",
      " 'tunic.capitol_0.hall.chap1_finale_c'\n",
      " 'tunic.capitol_1.hall.boss.haveyougotit'\n",
      " 'tunic.capitol_1.hall.boss.writeitup'\n",
      " 'tunic.capitol_1.hall.chap2_finale_c'\n",
      " 'tunic.capitol_2.hall.boss.haveyougotit'\n",
      " 'tunic.capitol_2.hall.chap4_finale_c'\n",
      " 'tunic.drycleaner.frontdesk.block_0' 'tunic.drycleaner.frontdesk.block_1'\n",
      " 'tunic.drycleaner.frontdesk.logbook.page.bingo'\n",
      " 'tunic.drycleaner.frontdesk.worker.done'\n",
      " 'tunic.drycleaner.frontdesk.worker.done2'\n",
      " 'tunic.drycleaner.frontdesk.worker.hub'\n",
      " 'tunic.drycleaner.frontdesk.worker.takealook'\n",
      " 'tunic.flaghouse.entry.colorbook' 'tunic.flaghouse.entry.flag_girl.hello'\n",
      " 'tunic.flaghouse.entry.flag_girl.hello_recap'\n",
      " 'tunic.flaghouse.entry.flag_girl.symbol'\n",
      " 'tunic.flaghouse.entry.flag_girl.symbol_recap'\n",
      " 'tunic.historicalsociety.basement.ch3start'\n",
      " 'tunic.historicalsociety.basement.gramps.seeyalater'\n",
      " 'tunic.historicalsociety.basement.gramps.whatdo'\n",
      " 'tunic.historicalsociety.basement.janitor'\n",
      " 'tunic.historicalsociety.basement.savedteddy'\n",
      " 'tunic.historicalsociety.basement.seescratches'\n",
      " 'tunic.historicalsociety.cage.confrontation'\n",
      " 'tunic.historicalsociety.cage.glasses.afterteddy'\n",
      " 'tunic.historicalsociety.cage.glasses.beforeteddy'\n",
      " 'tunic.historicalsociety.cage.lockeddoor'\n",
      " 'tunic.historicalsociety.cage.need_glasses'\n",
      " 'tunic.historicalsociety.cage.teddy.trapped'\n",
      " 'tunic.historicalsociety.cage.unlockdoor'\n",
      " 'tunic.historicalsociety.closet.doorblock'\n",
      " 'tunic.historicalsociety.closet.gramps.intro_0_cs_0'\n",
      " 'tunic.historicalsociety.closet.intro'\n",
      " 'tunic.historicalsociety.closet.notebook'\n",
      " 'tunic.historicalsociety.closet.photo'\n",
      " 'tunic.historicalsociety.closet.retirement_letter.hub'\n",
      " 'tunic.historicalsociety.closet.teddy.intro_0_cs_0'\n",
      " 'tunic.historicalsociety.closet.teddy.intro_0_cs_5'\n",
      " 'tunic.historicalsociety.closet_dirty.door_block_clean'\n",
      " 'tunic.historicalsociety.closet_dirty.door_block_talk'\n",
      " 'tunic.historicalsociety.closet_dirty.gramps.archivist'\n",
      " 'tunic.historicalsociety.closet_dirty.gramps.helpclean'\n",
      " 'tunic.historicalsociety.closet_dirty.gramps.news'\n",
      " 'tunic.historicalsociety.closet_dirty.gramps.nothing'\n",
      " 'tunic.historicalsociety.closet_dirty.photo'\n",
      " 'tunic.historicalsociety.closet_dirty.trigger_coffee'\n",
      " 'tunic.historicalsociety.closet_dirty.trigger_scarf'\n",
      " 'tunic.historicalsociety.closet_dirty.what_happened'\n",
      " 'tunic.historicalsociety.collection.cs'\n",
      " 'tunic.historicalsociety.collection.gramps.found'\n",
      " 'tunic.historicalsociety.collection.gramps.look_0'\n",
      " 'tunic.historicalsociety.collection.gramps.lost'\n",
      " 'tunic.historicalsociety.collection.tunic'\n",
      " 'tunic.historicalsociety.collection.tunic.slip'\n",
      " 'tunic.historicalsociety.collection_flag.gramps.flag'\n",
      " 'tunic.historicalsociety.collection_flag.gramps.recap'\n",
      " 'tunic.historicalsociety.entry.block_tocollection'\n",
      " 'tunic.historicalsociety.entry.block_tomap1'\n",
      " 'tunic.historicalsociety.entry.block_tomap2'\n",
      " 'tunic.historicalsociety.entry.boss.flag'\n",
      " 'tunic.historicalsociety.entry.boss.flag_recap'\n",
      " 'tunic.historicalsociety.entry.boss.talktogramps'\n",
      " 'tunic.historicalsociety.entry.directory.closeup.archivist'\n",
      " 'tunic.historicalsociety.entry.gramps.hub'\n",
      " 'tunic.historicalsociety.entry.groupconvo'\n",
      " 'tunic.historicalsociety.entry.groupconvo_flag'\n",
      " 'tunic.historicalsociety.entry.wells.flag'\n",
      " 'tunic.historicalsociety.entry.wells.flag_recap'\n",
      " 'tunic.historicalsociety.entry.wells.talktogramps'\n",
      " 'tunic.historicalsociety.frontdesk.archivist.foundtheodora'\n",
      " 'tunic.historicalsociety.frontdesk.archivist.have_glass'\n",
      " 'tunic.historicalsociety.frontdesk.archivist.have_glass_recap'\n",
      " 'tunic.historicalsociety.frontdesk.archivist.hello'\n",
      " 'tunic.historicalsociety.frontdesk.archivist.need_glass_0'\n",
      " 'tunic.historicalsociety.frontdesk.archivist.need_glass_1'\n",
      " 'tunic.historicalsociety.frontdesk.archivist.newspaper'\n",
      " 'tunic.historicalsociety.frontdesk.archivist.newspaper_recap'\n",
      " 'tunic.historicalsociety.frontdesk.archivist_glasses.confrontation'\n",
      " 'tunic.historicalsociety.frontdesk.archivist_glasses.confrontation_recap'\n",
      " 'tunic.historicalsociety.frontdesk.block_magnify'\n",
      " 'tunic.historicalsociety.frontdesk.key'\n",
      " 'tunic.historicalsociety.frontdesk.magnify'\n",
      " 'tunic.historicalsociety.stacks.block'\n",
      " 'tunic.historicalsociety.stacks.journals.pic_2.bingo'\n",
      " 'tunic.historicalsociety.stacks.journals_flag.pic_0.bingo'\n",
      " 'tunic.historicalsociety.stacks.journals_flag.pic_1.bingo'\n",
      " 'tunic.historicalsociety.stacks.journals_flag.pic_2.bingo'\n",
      " 'tunic.historicalsociety.stacks.outtolunch'\n",
      " 'tunic.humanecology.frontdesk.block_0'\n",
      " 'tunic.humanecology.frontdesk.block_1'\n",
      " 'tunic.humanecology.frontdesk.businesscards.card_bingo.bingo'\n",
      " 'tunic.humanecology.frontdesk.worker.badger'\n",
      " 'tunic.humanecology.frontdesk.worker.intro'\n",
      " 'tunic.kohlcenter.halloffame.block_0'\n",
      " 'tunic.kohlcenter.halloffame.plaque.face.date'\n",
      " 'tunic.kohlcenter.halloffame.togrampa'\n",
      " 'tunic.library.frontdesk.block_badge'\n",
      " 'tunic.library.frontdesk.block_badge_2'\n",
      " 'tunic.library.frontdesk.block_nelson'\n",
      " 'tunic.library.frontdesk.wellsbadge.hub'\n",
      " 'tunic.library.frontdesk.worker.droppedbadge'\n",
      " 'tunic.library.frontdesk.worker.flag'\n",
      " 'tunic.library.frontdesk.worker.flag_recap'\n",
      " 'tunic.library.frontdesk.worker.hello'\n",
      " 'tunic.library.frontdesk.worker.hello_short'\n",
      " 'tunic.library.frontdesk.worker.nelson'\n",
      " 'tunic.library.frontdesk.worker.nelson_recap'\n",
      " 'tunic.library.frontdesk.worker.preflag'\n",
      " 'tunic.library.frontdesk.worker.wells'\n",
      " 'tunic.library.frontdesk.worker.wells_recap'\n",
      " 'tunic.library.microfiche.block_0'\n",
      " 'tunic.library.microfiche.reader.paper2.bingo'\n",
      " 'tunic.library.microfiche.reader_flag.paper2.bingo'\n",
      " 'tunic.wildlife.center.coffee' 'tunic.wildlife.center.crane_ranger.crane'\n",
      " 'tunic.wildlife.center.expert.recap'\n",
      " 'tunic.wildlife.center.expert.removed_cup'\n",
      " 'tunic.wildlife.center.fox.concern' 'tunic.wildlife.center.remove_cup'\n",
      " 'tunic.wildlife.center.tracks.hub.deer'\n",
      " 'tunic.wildlife.center.wells.animals'\n",
      " 'tunic.wildlife.center.wells.animals2'\n",
      " 'tunic.wildlife.center.wells.nodeer'\n",
      " 'tunic.wildlife.center.wells.nodeer_recap']\n"
     ]
    }
   ],
   "source": [
    "df['text_fqid']= label_encoder.fit_transform(df['text_fqid'])\n",
    "print(label_encoder.classes_)"
   ]
  },
  {
   "cell_type": "code",
   "execution_count": 39,
   "id": "a67d2090",
   "metadata": {},
   "outputs": [
    {
     "name": "stdout",
     "output_type": "stream",
     "text": [
      "['0-4' '13-22' '5-12']\n"
     ]
    }
   ],
   "source": [
    "df['level_group']= label_encoder.fit_transform(df['level_group'])\n",
    "print(label_encoder.classes_)"
   ]
  },
  {
   "cell_type": "code",
   "execution_count": 40,
   "id": "19aceffb",
   "metadata": {},
   "outputs": [
    {
     "name": "stdout",
     "output_type": "stream",
     "text": [
      "session_id          int64\n",
      "index               int64\n",
      "elapsed_time        int64\n",
      "event_name          int32\n",
      "name                int32\n",
      "level               int64\n",
      "page              float64\n",
      "room_coor_x       float64\n",
      "room_coor_y       float64\n",
      "screen_coor_x     float64\n",
      "screen_coor_y     float64\n",
      "hover_duration    float64\n",
      "text                int64\n",
      "fqid                int32\n",
      "room_fqid           int32\n",
      "text_fqid           int32\n",
      "fullscreen          int64\n",
      "hq                  int64\n",
      "music               int64\n",
      "level_group         int32\n",
      "dtype: object\n"
     ]
    }
   ],
   "source": [
    "print(df.dtypes)"
   ]
  },
  {
   "cell_type": "markdown",
   "id": "517f532f",
   "metadata": {},
   "source": [
    "# Data Prep for model"
   ]
  },
  {
   "cell_type": "code",
   "execution_count": 41,
   "id": "33daa26f",
   "metadata": {},
   "outputs": [
    {
     "data": {
      "text/html": [
       "<div>\n",
       "<style scoped>\n",
       "    .dataframe tbody tr th:only-of-type {\n",
       "        vertical-align: middle;\n",
       "    }\n",
       "\n",
       "    .dataframe tbody tr th {\n",
       "        vertical-align: top;\n",
       "    }\n",
       "\n",
       "    .dataframe thead th {\n",
       "        text-align: right;\n",
       "    }\n",
       "</style>\n",
       "<table border=\"1\" class=\"dataframe\">\n",
       "  <thead>\n",
       "    <tr style=\"text-align: right;\">\n",
       "      <th></th>\n",
       "      <th>session_id</th>\n",
       "      <th>index</th>\n",
       "      <th>elapsed_time</th>\n",
       "      <th>event_name</th>\n",
       "      <th>name</th>\n",
       "      <th>level</th>\n",
       "      <th>page</th>\n",
       "      <th>room_coor_x</th>\n",
       "      <th>room_coor_y</th>\n",
       "      <th>screen_coor_x</th>\n",
       "      <th>screen_coor_y</th>\n",
       "      <th>hover_duration</th>\n",
       "      <th>text</th>\n",
       "      <th>fqid</th>\n",
       "      <th>room_fqid</th>\n",
       "      <th>text_fqid</th>\n",
       "      <th>fullscreen</th>\n",
       "      <th>hq</th>\n",
       "      <th>music</th>\n",
       "      <th>level_group</th>\n",
       "    </tr>\n",
       "  </thead>\n",
       "  <tbody>\n",
       "    <tr>\n",
       "      <th>0</th>\n",
       "      <td>20090312431273200</td>\n",
       "      <td>0</td>\n",
       "      <td>0</td>\n",
       "      <td>1</td>\n",
       "      <td>0</td>\n",
       "      <td>0</td>\n",
       "      <td>5.0</td>\n",
       "      <td>-413.991405</td>\n",
       "      <td>-159.314686</td>\n",
       "      <td>380.0</td>\n",
       "      <td>494.0</td>\n",
       "      <td>3471.003377</td>\n",
       "      <td>5</td>\n",
       "      <td>41</td>\n",
       "      <td>7</td>\n",
       "      <td>34</td>\n",
       "      <td>0</td>\n",
       "      <td>0</td>\n",
       "      <td>1</td>\n",
       "      <td>0</td>\n",
       "    </tr>\n",
       "    <tr>\n",
       "      <th>1</th>\n",
       "      <td>20090312431273200</td>\n",
       "      <td>1</td>\n",
       "      <td>1323</td>\n",
       "      <td>10</td>\n",
       "      <td>0</td>\n",
       "      <td>0</td>\n",
       "      <td>5.0</td>\n",
       "      <td>-413.991405</td>\n",
       "      <td>-159.314686</td>\n",
       "      <td>380.0</td>\n",
       "      <td>494.0</td>\n",
       "      <td>3471.003377</td>\n",
       "      <td>5</td>\n",
       "      <td>38</td>\n",
       "      <td>7</td>\n",
       "      <td>33</td>\n",
       "      <td>0</td>\n",
       "      <td>0</td>\n",
       "      <td>1</td>\n",
       "      <td>0</td>\n",
       "    </tr>\n",
       "    <tr>\n",
       "      <th>2</th>\n",
       "      <td>20090312431273200</td>\n",
       "      <td>2</td>\n",
       "      <td>831</td>\n",
       "      <td>10</td>\n",
       "      <td>0</td>\n",
       "      <td>0</td>\n",
       "      <td>5.0</td>\n",
       "      <td>-413.991405</td>\n",
       "      <td>-159.314686</td>\n",
       "      <td>380.0</td>\n",
       "      <td>494.0</td>\n",
       "      <td>3471.003377</td>\n",
       "      <td>5</td>\n",
       "      <td>38</td>\n",
       "      <td>7</td>\n",
       "      <td>33</td>\n",
       "      <td>0</td>\n",
       "      <td>0</td>\n",
       "      <td>1</td>\n",
       "      <td>0</td>\n",
       "    </tr>\n",
       "    <tr>\n",
       "      <th>3</th>\n",
       "      <td>20090312431273200</td>\n",
       "      <td>3</td>\n",
       "      <td>1147</td>\n",
       "      <td>10</td>\n",
       "      <td>0</td>\n",
       "      <td>0</td>\n",
       "      <td>5.0</td>\n",
       "      <td>-413.991405</td>\n",
       "      <td>-159.314686</td>\n",
       "      <td>380.0</td>\n",
       "      <td>494.0</td>\n",
       "      <td>3471.003377</td>\n",
       "      <td>5</td>\n",
       "      <td>38</td>\n",
       "      <td>7</td>\n",
       "      <td>33</td>\n",
       "      <td>0</td>\n",
       "      <td>0</td>\n",
       "      <td>1</td>\n",
       "      <td>0</td>\n",
       "    </tr>\n",
       "    <tr>\n",
       "      <th>4</th>\n",
       "      <td>20090312431273200</td>\n",
       "      <td>4</td>\n",
       "      <td>1863</td>\n",
       "      <td>10</td>\n",
       "      <td>0</td>\n",
       "      <td>0</td>\n",
       "      <td>5.0</td>\n",
       "      <td>-412.991405</td>\n",
       "      <td>-159.314686</td>\n",
       "      <td>381.0</td>\n",
       "      <td>494.0</td>\n",
       "      <td>3471.003377</td>\n",
       "      <td>5</td>\n",
       "      <td>38</td>\n",
       "      <td>7</td>\n",
       "      <td>33</td>\n",
       "      <td>0</td>\n",
       "      <td>0</td>\n",
       "      <td>1</td>\n",
       "      <td>0</td>\n",
       "    </tr>\n",
       "    <tr>\n",
       "      <th>...</th>\n",
       "      <td>...</td>\n",
       "      <td>...</td>\n",
       "      <td>...</td>\n",
       "      <td>...</td>\n",
       "      <td>...</td>\n",
       "      <td>...</td>\n",
       "      <td>...</td>\n",
       "      <td>...</td>\n",
       "      <td>...</td>\n",
       "      <td>...</td>\n",
       "      <td>...</td>\n",
       "      <td>...</td>\n",
       "      <td>...</td>\n",
       "      <td>...</td>\n",
       "      <td>...</td>\n",
       "      <td>...</td>\n",
       "      <td>...</td>\n",
       "      <td>...</td>\n",
       "      <td>...</td>\n",
       "      <td>...</td>\n",
       "    </tr>\n",
       "    <tr>\n",
       "      <th>26296941</th>\n",
       "      <td>22100221145014656</td>\n",
       "      <td>1600</td>\n",
       "      <td>5483231</td>\n",
       "      <td>4</td>\n",
       "      <td>5</td>\n",
       "      <td>22</td>\n",
       "      <td>5.0</td>\n",
       "      <td>343.887291</td>\n",
       "      <td>36.701026</td>\n",
       "      <td>483.0</td>\n",
       "      <td>273.0</td>\n",
       "      <td>3471.003377</td>\n",
       "      <td>5</td>\n",
       "      <td>127</td>\n",
       "      <td>2</td>\n",
       "      <td>25</td>\n",
       "      <td>0</td>\n",
       "      <td>0</td>\n",
       "      <td>1</td>\n",
       "      <td>1</td>\n",
       "    </tr>\n",
       "    <tr>\n",
       "      <th>26296942</th>\n",
       "      <td>22100221145014656</td>\n",
       "      <td>1601</td>\n",
       "      <td>5485166</td>\n",
       "      <td>4</td>\n",
       "      <td>5</td>\n",
       "      <td>22</td>\n",
       "      <td>5.0</td>\n",
       "      <td>332.696070</td>\n",
       "      <td>141.493178</td>\n",
       "      <td>545.0</td>\n",
       "      <td>221.0</td>\n",
       "      <td>3471.003377</td>\n",
       "      <td>5</td>\n",
       "      <td>23</td>\n",
       "      <td>2</td>\n",
       "      <td>25</td>\n",
       "      <td>0</td>\n",
       "      <td>0</td>\n",
       "      <td>1</td>\n",
       "      <td>1</td>\n",
       "    </tr>\n",
       "    <tr>\n",
       "      <th>26296943</th>\n",
       "      <td>22100221145014656</td>\n",
       "      <td>1602</td>\n",
       "      <td>5485917</td>\n",
       "      <td>4</td>\n",
       "      <td>5</td>\n",
       "      <td>22</td>\n",
       "      <td>5.0</td>\n",
       "      <td>369.912859</td>\n",
       "      <td>140.569205</td>\n",
       "      <td>611.0</td>\n",
       "      <td>217.0</td>\n",
       "      <td>3471.003377</td>\n",
       "      <td>5</td>\n",
       "      <td>127</td>\n",
       "      <td>2</td>\n",
       "      <td>25</td>\n",
       "      <td>0</td>\n",
       "      <td>0</td>\n",
       "      <td>1</td>\n",
       "      <td>1</td>\n",
       "    </tr>\n",
       "    <tr>\n",
       "      <th>26296944</th>\n",
       "      <td>22100221145014656</td>\n",
       "      <td>1603</td>\n",
       "      <td>5486753</td>\n",
       "      <td>4</td>\n",
       "      <td>5</td>\n",
       "      <td>22</td>\n",
       "      <td>5.0</td>\n",
       "      <td>252.299653</td>\n",
       "      <td>123.805889</td>\n",
       "      <td>526.0</td>\n",
       "      <td>232.0</td>\n",
       "      <td>3471.003377</td>\n",
       "      <td>5</td>\n",
       "      <td>23</td>\n",
       "      <td>2</td>\n",
       "      <td>25</td>\n",
       "      <td>0</td>\n",
       "      <td>0</td>\n",
       "      <td>1</td>\n",
       "      <td>1</td>\n",
       "    </tr>\n",
       "    <tr>\n",
       "      <th>26296945</th>\n",
       "      <td>22100221145014656</td>\n",
       "      <td>1604</td>\n",
       "      <td>5487952</td>\n",
       "      <td>0</td>\n",
       "      <td>0</td>\n",
       "      <td>22</td>\n",
       "      <td>5.0</td>\n",
       "      <td>425.725528</td>\n",
       "      <td>-106.000000</td>\n",
       "      <td>822.0</td>\n",
       "      <td>434.0</td>\n",
       "      <td>3471.003377</td>\n",
       "      <td>5</td>\n",
       "      <td>23</td>\n",
       "      <td>2</td>\n",
       "      <td>25</td>\n",
       "      <td>0</td>\n",
       "      <td>0</td>\n",
       "      <td>1</td>\n",
       "      <td>1</td>\n",
       "    </tr>\n",
       "  </tbody>\n",
       "</table>\n",
       "<p>26296946 rows × 20 columns</p>\n",
       "</div>"
      ],
      "text/plain": [
       "                 session_id  index  elapsed_time  event_name  name  level  \\\n",
       "0         20090312431273200      0             0           1     0      0   \n",
       "1         20090312431273200      1          1323          10     0      0   \n",
       "2         20090312431273200      2           831          10     0      0   \n",
       "3         20090312431273200      3          1147          10     0      0   \n",
       "4         20090312431273200      4          1863          10     0      0   \n",
       "...                     ...    ...           ...         ...   ...    ...   \n",
       "26296941  22100221145014656   1600       5483231           4     5     22   \n",
       "26296942  22100221145014656   1601       5485166           4     5     22   \n",
       "26296943  22100221145014656   1602       5485917           4     5     22   \n",
       "26296944  22100221145014656   1603       5486753           4     5     22   \n",
       "26296945  22100221145014656   1604       5487952           0     0     22   \n",
       "\n",
       "          page  room_coor_x  room_coor_y  screen_coor_x  screen_coor_y  \\\n",
       "0          5.0  -413.991405  -159.314686          380.0          494.0   \n",
       "1          5.0  -413.991405  -159.314686          380.0          494.0   \n",
       "2          5.0  -413.991405  -159.314686          380.0          494.0   \n",
       "3          5.0  -413.991405  -159.314686          380.0          494.0   \n",
       "4          5.0  -412.991405  -159.314686          381.0          494.0   \n",
       "...        ...          ...          ...            ...            ...   \n",
       "26296941   5.0   343.887291    36.701026          483.0          273.0   \n",
       "26296942   5.0   332.696070   141.493178          545.0          221.0   \n",
       "26296943   5.0   369.912859   140.569205          611.0          217.0   \n",
       "26296944   5.0   252.299653   123.805889          526.0          232.0   \n",
       "26296945   5.0   425.725528  -106.000000          822.0          434.0   \n",
       "\n",
       "          hover_duration  text  fqid  room_fqid  text_fqid  fullscreen  hq  \\\n",
       "0            3471.003377     5    41          7         34           0   0   \n",
       "1            3471.003377     5    38          7         33           0   0   \n",
       "2            3471.003377     5    38          7         33           0   0   \n",
       "3            3471.003377     5    38          7         33           0   0   \n",
       "4            3471.003377     5    38          7         33           0   0   \n",
       "...                  ...   ...   ...        ...        ...         ...  ..   \n",
       "26296941     3471.003377     5   127          2         25           0   0   \n",
       "26296942     3471.003377     5    23          2         25           0   0   \n",
       "26296943     3471.003377     5   127          2         25           0   0   \n",
       "26296944     3471.003377     5    23          2         25           0   0   \n",
       "26296945     3471.003377     5    23          2         25           0   0   \n",
       "\n",
       "          music  level_group  \n",
       "0             1            0  \n",
       "1             1            0  \n",
       "2             1            0  \n",
       "3             1            0  \n",
       "4             1            0  \n",
       "...         ...          ...  \n",
       "26296941      1            1  \n",
       "26296942      1            1  \n",
       "26296943      1            1  \n",
       "26296944      1            1  \n",
       "26296945      1            1  \n",
       "\n",
       "[26296946 rows x 20 columns]"
      ]
     },
     "execution_count": 41,
     "metadata": {},
     "output_type": "execute_result"
    }
   ],
   "source": [
    "df"
   ]
  },
  {
   "cell_type": "code",
   "execution_count": 42,
   "id": "1407d13b",
   "metadata": {},
   "outputs": [],
   "source": [
    "# scaler = MinMaxScaler()\n",
    "# # transform data\n",
    "# df = df['session_id'] +  scaler.fit_transform(df.loc[:, df.columns != 'session_id'])\n",
    "# print(df)"
   ]
  },
  {
   "cell_type": "code",
   "execution_count": 43,
   "id": "6b7e7e2e",
   "metadata": {},
   "outputs": [
    {
     "data": {
      "text/html": [
       "<div>\n",
       "<style scoped>\n",
       "    .dataframe tbody tr th:only-of-type {\n",
       "        vertical-align: middle;\n",
       "    }\n",
       "\n",
       "    .dataframe tbody tr th {\n",
       "        vertical-align: top;\n",
       "    }\n",
       "\n",
       "    .dataframe thead th {\n",
       "        text-align: right;\n",
       "    }\n",
       "</style>\n",
       "<table border=\"1\" class=\"dataframe\">\n",
       "  <thead>\n",
       "    <tr style=\"text-align: right;\">\n",
       "      <th></th>\n",
       "      <th>session_id</th>\n",
       "      <th>index</th>\n",
       "      <th>elapsed_time</th>\n",
       "      <th>event_name</th>\n",
       "      <th>name</th>\n",
       "      <th>level</th>\n",
       "      <th>page</th>\n",
       "      <th>room_coor_x</th>\n",
       "      <th>room_coor_y</th>\n",
       "      <th>screen_coor_x</th>\n",
       "      <th>screen_coor_y</th>\n",
       "      <th>hover_duration</th>\n",
       "      <th>text</th>\n",
       "      <th>fqid</th>\n",
       "      <th>room_fqid</th>\n",
       "      <th>text_fqid</th>\n",
       "      <th>fullscreen</th>\n",
       "      <th>hq</th>\n",
       "      <th>music</th>\n",
       "      <th>level_group</th>\n",
       "    </tr>\n",
       "  </thead>\n",
       "  <tbody>\n",
       "    <tr>\n",
       "      <th>0</th>\n",
       "      <td>20090312431273200</td>\n",
       "      <td>0</td>\n",
       "      <td>0</td>\n",
       "      <td>1</td>\n",
       "      <td>0</td>\n",
       "      <td>0</td>\n",
       "      <td>5.0</td>\n",
       "      <td>-413.991405</td>\n",
       "      <td>-159.314686</td>\n",
       "      <td>380.0</td>\n",
       "      <td>494.0</td>\n",
       "      <td>3471.003377</td>\n",
       "      <td>5</td>\n",
       "      <td>41</td>\n",
       "      <td>7</td>\n",
       "      <td>34</td>\n",
       "      <td>0</td>\n",
       "      <td>0</td>\n",
       "      <td>1</td>\n",
       "      <td>0</td>\n",
       "    </tr>\n",
       "    <tr>\n",
       "      <th>1</th>\n",
       "      <td>20090312431273200</td>\n",
       "      <td>1</td>\n",
       "      <td>1323</td>\n",
       "      <td>10</td>\n",
       "      <td>0</td>\n",
       "      <td>0</td>\n",
       "      <td>5.0</td>\n",
       "      <td>-413.991405</td>\n",
       "      <td>-159.314686</td>\n",
       "      <td>380.0</td>\n",
       "      <td>494.0</td>\n",
       "      <td>3471.003377</td>\n",
       "      <td>5</td>\n",
       "      <td>38</td>\n",
       "      <td>7</td>\n",
       "      <td>33</td>\n",
       "      <td>0</td>\n",
       "      <td>0</td>\n",
       "      <td>1</td>\n",
       "      <td>0</td>\n",
       "    </tr>\n",
       "    <tr>\n",
       "      <th>2</th>\n",
       "      <td>20090312431273200</td>\n",
       "      <td>2</td>\n",
       "      <td>831</td>\n",
       "      <td>10</td>\n",
       "      <td>0</td>\n",
       "      <td>0</td>\n",
       "      <td>5.0</td>\n",
       "      <td>-413.991405</td>\n",
       "      <td>-159.314686</td>\n",
       "      <td>380.0</td>\n",
       "      <td>494.0</td>\n",
       "      <td>3471.003377</td>\n",
       "      <td>5</td>\n",
       "      <td>38</td>\n",
       "      <td>7</td>\n",
       "      <td>33</td>\n",
       "      <td>0</td>\n",
       "      <td>0</td>\n",
       "      <td>1</td>\n",
       "      <td>0</td>\n",
       "    </tr>\n",
       "    <tr>\n",
       "      <th>3</th>\n",
       "      <td>20090312431273200</td>\n",
       "      <td>3</td>\n",
       "      <td>1147</td>\n",
       "      <td>10</td>\n",
       "      <td>0</td>\n",
       "      <td>0</td>\n",
       "      <td>5.0</td>\n",
       "      <td>-413.991405</td>\n",
       "      <td>-159.314686</td>\n",
       "      <td>380.0</td>\n",
       "      <td>494.0</td>\n",
       "      <td>3471.003377</td>\n",
       "      <td>5</td>\n",
       "      <td>38</td>\n",
       "      <td>7</td>\n",
       "      <td>33</td>\n",
       "      <td>0</td>\n",
       "      <td>0</td>\n",
       "      <td>1</td>\n",
       "      <td>0</td>\n",
       "    </tr>\n",
       "    <tr>\n",
       "      <th>4</th>\n",
       "      <td>20090312431273200</td>\n",
       "      <td>4</td>\n",
       "      <td>1863</td>\n",
       "      <td>10</td>\n",
       "      <td>0</td>\n",
       "      <td>0</td>\n",
       "      <td>5.0</td>\n",
       "      <td>-412.991405</td>\n",
       "      <td>-159.314686</td>\n",
       "      <td>381.0</td>\n",
       "      <td>494.0</td>\n",
       "      <td>3471.003377</td>\n",
       "      <td>5</td>\n",
       "      <td>38</td>\n",
       "      <td>7</td>\n",
       "      <td>33</td>\n",
       "      <td>0</td>\n",
       "      <td>0</td>\n",
       "      <td>1</td>\n",
       "      <td>0</td>\n",
       "    </tr>\n",
       "    <tr>\n",
       "      <th>...</th>\n",
       "      <td>...</td>\n",
       "      <td>...</td>\n",
       "      <td>...</td>\n",
       "      <td>...</td>\n",
       "      <td>...</td>\n",
       "      <td>...</td>\n",
       "      <td>...</td>\n",
       "      <td>...</td>\n",
       "      <td>...</td>\n",
       "      <td>...</td>\n",
       "      <td>...</td>\n",
       "      <td>...</td>\n",
       "      <td>...</td>\n",
       "      <td>...</td>\n",
       "      <td>...</td>\n",
       "      <td>...</td>\n",
       "      <td>...</td>\n",
       "      <td>...</td>\n",
       "      <td>...</td>\n",
       "      <td>...</td>\n",
       "    </tr>\n",
       "    <tr>\n",
       "      <th>26296941</th>\n",
       "      <td>22100221145014656</td>\n",
       "      <td>1600</td>\n",
       "      <td>5483231</td>\n",
       "      <td>4</td>\n",
       "      <td>5</td>\n",
       "      <td>22</td>\n",
       "      <td>5.0</td>\n",
       "      <td>343.887291</td>\n",
       "      <td>36.701026</td>\n",
       "      <td>483.0</td>\n",
       "      <td>273.0</td>\n",
       "      <td>3471.003377</td>\n",
       "      <td>5</td>\n",
       "      <td>127</td>\n",
       "      <td>2</td>\n",
       "      <td>25</td>\n",
       "      <td>0</td>\n",
       "      <td>0</td>\n",
       "      <td>1</td>\n",
       "      <td>1</td>\n",
       "    </tr>\n",
       "    <tr>\n",
       "      <th>26296942</th>\n",
       "      <td>22100221145014656</td>\n",
       "      <td>1601</td>\n",
       "      <td>5485166</td>\n",
       "      <td>4</td>\n",
       "      <td>5</td>\n",
       "      <td>22</td>\n",
       "      <td>5.0</td>\n",
       "      <td>332.696070</td>\n",
       "      <td>141.493178</td>\n",
       "      <td>545.0</td>\n",
       "      <td>221.0</td>\n",
       "      <td>3471.003377</td>\n",
       "      <td>5</td>\n",
       "      <td>23</td>\n",
       "      <td>2</td>\n",
       "      <td>25</td>\n",
       "      <td>0</td>\n",
       "      <td>0</td>\n",
       "      <td>1</td>\n",
       "      <td>1</td>\n",
       "    </tr>\n",
       "    <tr>\n",
       "      <th>26296943</th>\n",
       "      <td>22100221145014656</td>\n",
       "      <td>1602</td>\n",
       "      <td>5485917</td>\n",
       "      <td>4</td>\n",
       "      <td>5</td>\n",
       "      <td>22</td>\n",
       "      <td>5.0</td>\n",
       "      <td>369.912859</td>\n",
       "      <td>140.569205</td>\n",
       "      <td>611.0</td>\n",
       "      <td>217.0</td>\n",
       "      <td>3471.003377</td>\n",
       "      <td>5</td>\n",
       "      <td>127</td>\n",
       "      <td>2</td>\n",
       "      <td>25</td>\n",
       "      <td>0</td>\n",
       "      <td>0</td>\n",
       "      <td>1</td>\n",
       "      <td>1</td>\n",
       "    </tr>\n",
       "    <tr>\n",
       "      <th>26296944</th>\n",
       "      <td>22100221145014656</td>\n",
       "      <td>1603</td>\n",
       "      <td>5486753</td>\n",
       "      <td>4</td>\n",
       "      <td>5</td>\n",
       "      <td>22</td>\n",
       "      <td>5.0</td>\n",
       "      <td>252.299653</td>\n",
       "      <td>123.805889</td>\n",
       "      <td>526.0</td>\n",
       "      <td>232.0</td>\n",
       "      <td>3471.003377</td>\n",
       "      <td>5</td>\n",
       "      <td>23</td>\n",
       "      <td>2</td>\n",
       "      <td>25</td>\n",
       "      <td>0</td>\n",
       "      <td>0</td>\n",
       "      <td>1</td>\n",
       "      <td>1</td>\n",
       "    </tr>\n",
       "    <tr>\n",
       "      <th>26296945</th>\n",
       "      <td>22100221145014656</td>\n",
       "      <td>1604</td>\n",
       "      <td>5487952</td>\n",
       "      <td>0</td>\n",
       "      <td>0</td>\n",
       "      <td>22</td>\n",
       "      <td>5.0</td>\n",
       "      <td>425.725528</td>\n",
       "      <td>-106.000000</td>\n",
       "      <td>822.0</td>\n",
       "      <td>434.0</td>\n",
       "      <td>3471.003377</td>\n",
       "      <td>5</td>\n",
       "      <td>23</td>\n",
       "      <td>2</td>\n",
       "      <td>25</td>\n",
       "      <td>0</td>\n",
       "      <td>0</td>\n",
       "      <td>1</td>\n",
       "      <td>1</td>\n",
       "    </tr>\n",
       "  </tbody>\n",
       "</table>\n",
       "<p>26296946 rows × 20 columns</p>\n",
       "</div>"
      ],
      "text/plain": [
       "                 session_id  index  elapsed_time  event_name  name  level  \\\n",
       "0         20090312431273200      0             0           1     0      0   \n",
       "1         20090312431273200      1          1323          10     0      0   \n",
       "2         20090312431273200      2           831          10     0      0   \n",
       "3         20090312431273200      3          1147          10     0      0   \n",
       "4         20090312431273200      4          1863          10     0      0   \n",
       "...                     ...    ...           ...         ...   ...    ...   \n",
       "26296941  22100221145014656   1600       5483231           4     5     22   \n",
       "26296942  22100221145014656   1601       5485166           4     5     22   \n",
       "26296943  22100221145014656   1602       5485917           4     5     22   \n",
       "26296944  22100221145014656   1603       5486753           4     5     22   \n",
       "26296945  22100221145014656   1604       5487952           0     0     22   \n",
       "\n",
       "          page  room_coor_x  room_coor_y  screen_coor_x  screen_coor_y  \\\n",
       "0          5.0  -413.991405  -159.314686          380.0          494.0   \n",
       "1          5.0  -413.991405  -159.314686          380.0          494.0   \n",
       "2          5.0  -413.991405  -159.314686          380.0          494.0   \n",
       "3          5.0  -413.991405  -159.314686          380.0          494.0   \n",
       "4          5.0  -412.991405  -159.314686          381.0          494.0   \n",
       "...        ...          ...          ...            ...            ...   \n",
       "26296941   5.0   343.887291    36.701026          483.0          273.0   \n",
       "26296942   5.0   332.696070   141.493178          545.0          221.0   \n",
       "26296943   5.0   369.912859   140.569205          611.0          217.0   \n",
       "26296944   5.0   252.299653   123.805889          526.0          232.0   \n",
       "26296945   5.0   425.725528  -106.000000          822.0          434.0   \n",
       "\n",
       "          hover_duration  text  fqid  room_fqid  text_fqid  fullscreen  hq  \\\n",
       "0            3471.003377     5    41          7         34           0   0   \n",
       "1            3471.003377     5    38          7         33           0   0   \n",
       "2            3471.003377     5    38          7         33           0   0   \n",
       "3            3471.003377     5    38          7         33           0   0   \n",
       "4            3471.003377     5    38          7         33           0   0   \n",
       "...                  ...   ...   ...        ...        ...         ...  ..   \n",
       "26296941     3471.003377     5   127          2         25           0   0   \n",
       "26296942     3471.003377     5    23          2         25           0   0   \n",
       "26296943     3471.003377     5   127          2         25           0   0   \n",
       "26296944     3471.003377     5    23          2         25           0   0   \n",
       "26296945     3471.003377     5    23          2         25           0   0   \n",
       "\n",
       "          music  level_group  \n",
       "0             1            0  \n",
       "1             1            0  \n",
       "2             1            0  \n",
       "3             1            0  \n",
       "4             1            0  \n",
       "...         ...          ...  \n",
       "26296941      1            1  \n",
       "26296942      1            1  \n",
       "26296943      1            1  \n",
       "26296944      1            1  \n",
       "26296945      1            1  \n",
       "\n",
       "[26296946 rows x 20 columns]"
      ]
     },
     "execution_count": 43,
     "metadata": {},
     "output_type": "execute_result"
    }
   ],
   "source": [
    "df"
   ]
  },
  {
   "cell_type": "code",
   "execution_count": 44,
   "id": "2d58dc60",
   "metadata": {},
   "outputs": [
    {
     "data": {
      "text/plain": [
       "(26296946, 20)"
      ]
     },
     "execution_count": 44,
     "metadata": {},
     "output_type": "execute_result"
    }
   ],
   "source": [
    "df.shape"
   ]
  },
  {
   "cell_type": "code",
   "execution_count": 45,
   "id": "b08c689a",
   "metadata": {},
   "outputs": [
    {
     "data": {
      "text/plain": [
       "session_id         level_group\n",
       "20090312431273200  0              [[2.00903124312732e+16, 0.0, 0.0, 1.0, 0.0, 0....\n",
       "                   1              [[2.00903124312732e+16, 512.0, 836732.0, 4.0, ...\n",
       "                   2              [[2.00903124312732e+16, 175.0, 221485.0, 4.0, ...\n",
       "20090312433251036  0              [[2.0090312433251036e+16, 0.0, 0.0, 1.0, 0.0, ...\n",
       "                   1              [[2.0090312433251036e+16, 579.0, 1176483.0, 4....\n",
       "                                                        ...                        \n",
       "22100219442786200  1              [[2.21002194427862e+16, 498.0, 681304.0, 4.0, ...\n",
       "                   2              [[2.21002194427862e+16, 176.0, 237535.0, 4.0, ...\n",
       "22100221145014656  0              [[2.2100221145014656e+16, 0.0, 0.0, 1.0, 0.0, ...\n",
       "                   1              [[2.2100221145014656e+16, 845.0, 4296119.0, 4....\n",
       "                   2              [[2.2100221145014656e+16, 224.0, 475261.0, 4.0...\n",
       "Length: 70686, dtype: object"
      ]
     },
     "execution_count": 45,
     "metadata": {},
     "output_type": "execute_result"
    }
   ],
   "source": [
    "session_group3_data = df.groupby(['session_id','level_group']).apply(lambda x: np.array(x))\n",
    "session_group3_data"
   ]
  },
  {
   "cell_type": "code",
   "execution_count": 46,
   "id": "ce2ed13c",
   "metadata": {},
   "outputs": [],
   "source": [
    "session_by_lvl = session_group3_data.reset_index()"
   ]
  },
  {
   "cell_type": "code",
   "execution_count": 47,
   "id": "82bb84f9",
   "metadata": {},
   "outputs": [
    {
     "data": {
      "text/plain": [
       "2        [[2.00903124312732e+16, 175.0, 221485.0, 4.0, ...\n",
       "5        [[2.0090312433251036e+16, 150.0, 266883.0, 4.0...\n",
       "8        [[2.009031245520681e+16, 158.0, 380416.0, 4.0,...\n",
       "11       [[2.009031309171582e+16, 186.0, 232858.0, 4.0,...\n",
       "14       [[2.0090313571836404e+16, 119.0, 220779.0, 4.0...\n",
       "                               ...                        \n",
       "70673    [[2.2100215342220508e+16, 157.0, 601642.0, 4.0...\n",
       "70676    [[2.210021546032113e+16, 152.0, 369202.0, 4.0,...\n",
       "70679    [[2.210021710499365e+16, 208.0, 441324.0, 4.0,...\n",
       "70682    [[2.21002194427862e+16, 176.0, 237535.0, 4.0, ...\n",
       "70685    [[2.2100221145014656e+16, 224.0, 475261.0, 4.0...\n",
       "Name: 0, Length: 23562, dtype: object"
      ]
     },
     "execution_count": 47,
     "metadata": {},
     "output_type": "execute_result"
    }
   ],
   "source": [
    "df_lvl3 = session_by_lvl.loc[session_by_lvl['level_group'] == 2].iloc[:,2]\n",
    "df_lvl3"
   ]
  },
  {
   "cell_type": "code",
   "execution_count": 48,
   "id": "6b6f6ffe",
   "metadata": {},
   "outputs": [
    {
     "data": {
      "text/plain": [
       "1        [[2.00903124312732e+16, 512.0, 836732.0, 4.0, ...\n",
       "4        [[2.0090312433251036e+16, 579.0, 1176483.0, 4....\n",
       "7        [[2.009031245520681e+16, 463.0, 747667.0, 4.0,...\n",
       "10       [[2.009031309171582e+16, 549.0, 976364.0, 4.0,...\n",
       "13       [[2.0090313571836404e+16, 392.0, 685544.0, 4.0...\n",
       "                               ...                        \n",
       "70672    [[2.2100215342220508e+16, 490.0, 1916741.0, 4....\n",
       "70675    [[2.210021546032113e+16, 568.0, 1385001.0, 4.0...\n",
       "70678    [[2.210021710499365e+16, 639.0, 1189538.0, 4.0...\n",
       "70681    [[2.21002194427862e+16, 498.0, 681304.0, 4.0, ...\n",
       "70684    [[2.2100221145014656e+16, 845.0, 4296119.0, 4....\n",
       "Name: 0, Length: 23562, dtype: object"
      ]
     },
     "execution_count": 48,
     "metadata": {},
     "output_type": "execute_result"
    }
   ],
   "source": [
    "df_lvl2 = session_by_lvl.loc[session_by_lvl['level_group'] == 1].iloc[:,2]\n",
    "df_lvl2"
   ]
  },
  {
   "cell_type": "code",
   "execution_count": 49,
   "id": "90868d7f",
   "metadata": {},
   "outputs": [
    {
     "data": {
      "text/plain": [
       "0        [[2.00903124312732e+16, 0.0, 0.0, 1.0, 0.0, 0....\n",
       "3        [[2.0090312433251036e+16, 0.0, 0.0, 1.0, 0.0, ...\n",
       "6        [[2.009031245520681e+16, 0.0, 0.0, 1.0, 0.0, 0...\n",
       "9        [[2.009031309171582e+16, 0.0, 0.0, 1.0, 0.0, 0...\n",
       "12       [[2.0090313571836404e+16, 0.0, 0.0, 1.0, 0.0, ...\n",
       "                               ...                        \n",
       "70671    [[2.2100215342220508e+16, 0.0, 0.0, 1.0, 0.0, ...\n",
       "70674    [[2.210021546032113e+16, 0.0, 0.0, 1.0, 0.0, 0...\n",
       "70677    [[2.210021710499365e+16, 0.0, 0.0, 1.0, 0.0, 0...\n",
       "70680    [[2.21002194427862e+16, 0.0, 0.0, 1.0, 0.0, 0....\n",
       "70683    [[2.2100221145014656e+16, 0.0, 0.0, 1.0, 0.0, ...\n",
       "Name: 0, Length: 23562, dtype: object"
      ]
     },
     "execution_count": 49,
     "metadata": {},
     "output_type": "execute_result"
    }
   ],
   "source": [
    "df_lvl1 = session_by_lvl.loc[session_by_lvl['level_group'] == 0].iloc[:,2]\n",
    "df_lvl1"
   ]
  },
  {
   "cell_type": "code",
   "execution_count": 50,
   "id": "46800f58",
   "metadata": {},
   "outputs": [
    {
     "data": {
      "text/plain": [
       "(23562,)"
      ]
     },
     "execution_count": 50,
     "metadata": {},
     "output_type": "execute_result"
    }
   ],
   "source": [
    "df_lvl1.shape"
   ]
  },
  {
   "cell_type": "code",
   "execution_count": 51,
   "id": "01db8441",
   "metadata": {},
   "outputs": [
    {
     "data": {
      "text/plain": [
       "(165, 20)"
      ]
     },
     "execution_count": 51,
     "metadata": {},
     "output_type": "execute_result"
    }
   ],
   "source": [
    "df_lvl1[0].shape"
   ]
  },
  {
   "cell_type": "code",
   "execution_count": 52,
   "id": "83cd3467",
   "metadata": {},
   "outputs": [
    {
     "data": {
      "text/plain": [
       "(23562,)"
      ]
     },
     "execution_count": 52,
     "metadata": {},
     "output_type": "execute_result"
    }
   ],
   "source": [
    "df_lvl2.shape"
   ]
  },
  {
   "cell_type": "code",
   "execution_count": 53,
   "id": "d82f3049",
   "metadata": {},
   "outputs": [
    {
     "data": {
      "text/plain": [
       "(420, 20)"
      ]
     },
     "execution_count": 53,
     "metadata": {},
     "output_type": "execute_result"
    }
   ],
   "source": [
    "df_lvl2[1].shape"
   ]
  },
  {
   "cell_type": "code",
   "execution_count": 54,
   "id": "b624b69a",
   "metadata": {},
   "outputs": [
    {
     "data": {
      "text/plain": [
       "(23562,)"
      ]
     },
     "execution_count": 54,
     "metadata": {},
     "output_type": "execute_result"
    }
   ],
   "source": [
    "df_lvl3.shape"
   ]
  },
  {
   "cell_type": "code",
   "execution_count": 55,
   "id": "5e7d2932",
   "metadata": {},
   "outputs": [
    {
     "data": {
      "text/plain": [
       "(296, 20)"
      ]
     },
     "execution_count": 55,
     "metadata": {},
     "output_type": "execute_result"
    }
   ],
   "source": [
    "df_lvl3[2].shape"
   ]
  },
  {
   "cell_type": "code",
   "execution_count": 56,
   "id": "bf0a7d60",
   "metadata": {},
   "outputs": [
    {
     "data": {
      "text/plain": [
       "168.9587046939988"
      ]
     },
     "execution_count": 56,
     "metadata": {},
     "output_type": "execute_result"
    }
   ],
   "source": [
    "lvl_1_lengths =[]\n",
    "for session in df_lvl1:\n",
    "    lvl_1_lengths.append(session.shape[0])\n",
    "avg = sum(lvl_1_lengths) / len(lvl_1_lengths)\n",
    "avg"
   ]
  },
  {
   "cell_type": "code",
   "execution_count": 57,
   "id": "d30c74e5",
   "metadata": {},
   "outputs": [
    {
     "data": {
      "text/plain": [
       "571.755496137849"
      ]
     },
     "execution_count": 57,
     "metadata": {},
     "output_type": "execute_result"
    }
   ],
   "source": [
    "lvl_2_lengths =[]\n",
    "for session in df_lvl2:\n",
    "    lvl_2_lengths.append(session.shape[0])\n",
    "avg = sum(lvl_2_lengths) / len(lvl_2_lengths)\n",
    "avg"
   ]
  },
  {
   "cell_type": "code",
   "execution_count": 58,
   "id": "f4245ad7",
   "metadata": {},
   "outputs": [
    {
     "data": {
      "text/plain": [
       "375.3602410661234"
      ]
     },
     "execution_count": 58,
     "metadata": {},
     "output_type": "execute_result"
    }
   ],
   "source": [
    "lvl_3_lengths =[]\n",
    "for session in df_lvl3:\n",
    "    lvl_3_lengths.append(session.shape[0])\n",
    "avg = sum(lvl_3_lengths) / len(lvl_3_lengths)\n",
    "avg"
   ]
  },
  {
   "cell_type": "code",
   "execution_count": 59,
   "id": "6bd92a3f",
   "metadata": {},
   "outputs": [
    {
     "data": {
      "text/plain": [
       "2"
      ]
     },
     "execution_count": 59,
     "metadata": {},
     "output_type": "execute_result"
    }
   ],
   "source": [
    "total_over = 0\n",
    "for i in lvl_1_lengths:\n",
    "    if i > 1000:\n",
    "        total_over += 1\n",
    "total_over"
   ]
  },
  {
   "cell_type": "code",
   "execution_count": 60,
   "id": "8a62d1a3",
   "metadata": {},
   "outputs": [
    {
     "data": {
      "text/plain": [
       "940"
      ]
     },
     "execution_count": 60,
     "metadata": {},
     "output_type": "execute_result"
    }
   ],
   "source": [
    "total_over = 0\n",
    "for i in lvl_2_lengths:\n",
    "    if i > 1000:\n",
    "        total_over += 1\n",
    "total_over"
   ]
  },
  {
   "cell_type": "code",
   "execution_count": 61,
   "id": "1006fdd8",
   "metadata": {},
   "outputs": [
    {
     "data": {
      "text/plain": [
       "103"
      ]
     },
     "execution_count": 61,
     "metadata": {},
     "output_type": "execute_result"
    }
   ],
   "source": [
    "total_over = 0\n",
    "for i in lvl_3_lengths:\n",
    "    if i > 1000:\n",
    "        total_over += 1\n",
    "total_over"
   ]
  },
  {
   "cell_type": "code",
   "execution_count": 63,
   "id": "ebdf807a",
   "metadata": {},
   "outputs": [
    {
     "data": {
      "text/plain": [
       "2628"
      ]
     },
     "execution_count": 63,
     "metadata": {},
     "output_type": "execute_result"
    }
   ],
   "source": [
    "max(lvl_1_lengths)"
   ]
  },
  {
   "cell_type": "code",
   "execution_count": 64,
   "id": "46269eae",
   "metadata": {},
   "outputs": [
    {
     "data": {
      "text/plain": [
       "4702"
      ]
     },
     "execution_count": 64,
     "metadata": {},
     "output_type": "execute_result"
    }
   ],
   "source": [
    "max(lvl_2_lengths)"
   ]
  },
  {
   "cell_type": "code",
   "execution_count": 65,
   "id": "8b6f88a7",
   "metadata": {},
   "outputs": [
    {
     "data": {
      "text/plain": [
       "14255"
      ]
     },
     "execution_count": 65,
     "metadata": {},
     "output_type": "execute_result"
    }
   ],
   "source": [
    "max(lvl_3_lengths)"
   ]
  },
  {
   "cell_type": "code",
   "execution_count": 66,
   "id": "76c4be07",
   "metadata": {},
   "outputs": [
    {
     "data": {
      "text/plain": [
       "array([[[-2147483648,           0,           0, ...,           0,\n",
       "                   1,           0],\n",
       "        [-2147483648,           1,        1323, ...,           0,\n",
       "                   1,           0],\n",
       "        [-2147483648,           2,         831, ...,           0,\n",
       "                   1,           0],\n",
       "        ...,\n",
       "        [          0,           0,           0, ...,           0,\n",
       "                   0,           0],\n",
       "        [          0,           0,           0, ...,           0,\n",
       "                   0,           0],\n",
       "        [          0,           0,           0, ...,           0,\n",
       "                   0,           0]],\n",
       "\n",
       "       [[-2147483648,           0,           0, ...,           0,\n",
       "                   0,           0],\n",
       "        [-2147483648,           1,         218, ...,           0,\n",
       "                   0,           0],\n",
       "        [-2147483648,           2,         448, ...,           0,\n",
       "                   0,           0],\n",
       "        ...,\n",
       "        [          0,           0,           0, ...,           0,\n",
       "                   0,           0],\n",
       "        [          0,           0,           0, ...,           0,\n",
       "                   0,           0],\n",
       "        [          0,           0,           0, ...,           0,\n",
       "                   0,           0]],\n",
       "\n",
       "       [[-2147483648,           0,           0, ...,           1,\n",
       "                   1,           0],\n",
       "        [-2147483648,           1,         279, ...,           1,\n",
       "                   1,           0],\n",
       "        [-2147483648,           2,         495, ...,           1,\n",
       "                   1,           0],\n",
       "        ...,\n",
       "        [          0,           0,           0, ...,           0,\n",
       "                   0,           0],\n",
       "        [          0,           0,           0, ...,           0,\n",
       "                   0,           0],\n",
       "        [          0,           0,           0, ...,           0,\n",
       "                   0,           0]],\n",
       "\n",
       "       ...,\n",
       "\n",
       "       [[-2147483648,           0,           0, ...,           0,\n",
       "                   1,           0],\n",
       "        [-2147483648,           1,        1296, ...,           0,\n",
       "                   1,           0],\n",
       "        [-2147483648,           2,        3745, ...,           0,\n",
       "                   1,           0],\n",
       "        ...,\n",
       "        [          0,           0,           0, ...,           0,\n",
       "                   0,           0],\n",
       "        [          0,           0,           0, ...,           0,\n",
       "                   0,           0],\n",
       "        [          0,           0,           0, ...,           0,\n",
       "                   0,           0]],\n",
       "\n",
       "       [[-2147483648,           0,           0, ...,           0,\n",
       "                   1,           0],\n",
       "        [-2147483648,           1,        1880, ...,           0,\n",
       "                   1,           0],\n",
       "        [-2147483648,           2,        2480, ...,           0,\n",
       "                   1,           0],\n",
       "        ...,\n",
       "        [          0,           0,           0, ...,           0,\n",
       "                   0,           0],\n",
       "        [          0,           0,           0, ...,           0,\n",
       "                   0,           0],\n",
       "        [          0,           0,           0, ...,           0,\n",
       "                   0,           0]],\n",
       "\n",
       "       [[-2147483648,           0,           0, ...,           0,\n",
       "                   1,           0],\n",
       "        [-2147483648,           1,        2431, ...,           0,\n",
       "                   1,           0],\n",
       "        [-2147483648,           2,        5800, ...,           0,\n",
       "                   1,           0],\n",
       "        ...,\n",
       "        [          0,           0,           0, ...,           0,\n",
       "                   0,           0],\n",
       "        [          0,           0,           0, ...,           0,\n",
       "                   0,           0],\n",
       "        [          0,           0,           0, ...,           0,\n",
       "                   0,           0]]])"
      ]
     },
     "execution_count": 66,
     "metadata": {},
     "output_type": "execute_result"
    }
   ],
   "source": [
    "df_lvl1 = tf.keras.utils.pad_sequences(df_lvl1, maxlen = 1000, padding='post')\n",
    "df_lvl1"
   ]
  },
  {
   "cell_type": "code",
   "execution_count": 67,
   "id": "a5fa5727",
   "metadata": {},
   "outputs": [
    {
     "data": {
      "text/plain": [
       "array([[[-2147483648,         512,      836732, ...,           0,\n",
       "                   1,           1],\n",
       "        [-2147483648,         513,      837245, ...,           0,\n",
       "                   1,           1],\n",
       "        [-2147483648,         514,      837779, ...,           0,\n",
       "                   1,           1],\n",
       "        ...,\n",
       "        [          0,           0,           0, ...,           0,\n",
       "                   0,           0],\n",
       "        [          0,           0,           0, ...,           0,\n",
       "                   0,           0],\n",
       "        [          0,           0,           0, ...,           0,\n",
       "                   0,           0]],\n",
       "\n",
       "       [[-2147483648,         876,     1604754, ...,           0,\n",
       "                   0,           1],\n",
       "        [-2147483648,         877,     1605591, ...,           0,\n",
       "                   0,           1],\n",
       "        [-2147483648,         878,     1605739, ...,           0,\n",
       "                   0,           1],\n",
       "        ...,\n",
       "        [-2147483648,        1873,     3764935, ...,           0,\n",
       "                   0,           1],\n",
       "        [-2147483648,        1874,     3813349, ...,           0,\n",
       "                   0,           1],\n",
       "        [-2147483648,        1875,     3815334, ...,           0,\n",
       "                   0,           1]],\n",
       "\n",
       "       [[-2147483648,         463,      747667, ...,           1,\n",
       "                   1,           1],\n",
       "        [-2147483648,         464,      747946, ...,           1,\n",
       "                   1,           1],\n",
       "        [-2147483648,         465,      749030, ...,           1,\n",
       "                   1,           1],\n",
       "        ...,\n",
       "        [          0,           0,           0, ...,           0,\n",
       "                   0,           0],\n",
       "        [          0,           0,           0, ...,           0,\n",
       "                   0,           0],\n",
       "        [          0,           0,           0, ...,           0,\n",
       "                   0,           0]],\n",
       "\n",
       "       ...,\n",
       "\n",
       "       [[-2147483648,         639,     1189538, ...,           0,\n",
       "                   1,           1],\n",
       "        [-2147483648,         640,     1194219, ...,           0,\n",
       "                   1,           1],\n",
       "        [-2147483648,         641,     1196770, ...,           0,\n",
       "                   1,           1],\n",
       "        ...,\n",
       "        [          0,           0,           0, ...,           0,\n",
       "                   0,           0],\n",
       "        [          0,           0,           0, ...,           0,\n",
       "                   0,           0],\n",
       "        [          0,           0,           0, ...,           0,\n",
       "                   0,           0]],\n",
       "\n",
       "       [[-2147483648,         498,      681304, ...,           0,\n",
       "                   1,           1],\n",
       "        [-2147483648,         499,      685521, ...,           0,\n",
       "                   1,           1],\n",
       "        [-2147483648,         500,      687610, ...,           0,\n",
       "                   1,           1],\n",
       "        ...,\n",
       "        [          0,           0,           0, ...,           0,\n",
       "                   0,           0],\n",
       "        [          0,           0,           0, ...,           0,\n",
       "                   0,           0],\n",
       "        [          0,           0,           0, ...,           0,\n",
       "                   0,           0]],\n",
       "\n",
       "       [[-2147483648,         845,     4296119, ...,           0,\n",
       "                   1,           1],\n",
       "        [-2147483648,         846,     4301239, ...,           0,\n",
       "                   1,           1],\n",
       "        [-2147483648,         847,     4302157, ...,           0,\n",
       "                   1,           1],\n",
       "        ...,\n",
       "        [          0,           0,           0, ...,           0,\n",
       "                   0,           0],\n",
       "        [          0,           0,           0, ...,           0,\n",
       "                   0,           0],\n",
       "        [          0,           0,           0, ...,           0,\n",
       "                   0,           0]]])"
      ]
     },
     "execution_count": 67,
     "metadata": {},
     "output_type": "execute_result"
    }
   ],
   "source": [
    "df_lvl2 = tf.keras.utils.pad_sequences(df_lvl2, maxlen = 1000, padding='post')\n",
    "df_lvl2"
   ]
  },
  {
   "cell_type": "code",
   "execution_count": 68,
   "id": "cfce997b",
   "metadata": {},
   "outputs": [
    {
     "data": {
      "text/plain": [
       "array([[[-2147483648,         175,      221485, ...,           0,\n",
       "                   1,           2],\n",
       "        [-2147483648,         176,      222334, ...,           0,\n",
       "                   1,           2],\n",
       "        [-2147483648,         177,      223251, ...,           0,\n",
       "                   1,           2],\n",
       "        ...,\n",
       "        [          0,           0,           0, ...,           0,\n",
       "                   0,           0],\n",
       "        [          0,           0,           0, ...,           0,\n",
       "                   0,           0],\n",
       "        [          0,           0,           0, ...,           0,\n",
       "                   0,           0]],\n",
       "\n",
       "       [[-2147483648,         150,      266883, ...,           0,\n",
       "                   0,           2],\n",
       "        [-2147483648,         151,      268369, ...,           0,\n",
       "                   0,           2],\n",
       "        [-2147483648,         152,      269451, ...,           0,\n",
       "                   0,           2],\n",
       "        ...,\n",
       "        [          0,           0,           0, ...,           0,\n",
       "                   0,           0],\n",
       "        [          0,           0,           0, ...,           0,\n",
       "                   0,           0],\n",
       "        [          0,           0,           0, ...,           0,\n",
       "                   0,           0]],\n",
       "\n",
       "       [[-2147483648,         158,      380416, ...,           1,\n",
       "                   1,           2],\n",
       "        [-2147483648,         159,      380668, ...,           1,\n",
       "                   1,           2],\n",
       "        [-2147483648,         160,      382017, ...,           1,\n",
       "                   1,           2],\n",
       "        ...,\n",
       "        [          0,           0,           0, ...,           0,\n",
       "                   0,           0],\n",
       "        [          0,           0,           0, ...,           0,\n",
       "                   0,           0],\n",
       "        [          0,           0,           0, ...,           0,\n",
       "                   0,           0]],\n",
       "\n",
       "       ...,\n",
       "\n",
       "       [[-2147483648,         208,      441324, ...,           0,\n",
       "                   1,           2],\n",
       "        [-2147483648,         209,      441841, ...,           0,\n",
       "                   1,           2],\n",
       "        [-2147483648,         210,      443524, ...,           0,\n",
       "                   1,           2],\n",
       "        ...,\n",
       "        [          0,           0,           0, ...,           0,\n",
       "                   0,           0],\n",
       "        [          0,           0,           0, ...,           0,\n",
       "                   0,           0],\n",
       "        [          0,           0,           0, ...,           0,\n",
       "                   0,           0]],\n",
       "\n",
       "       [[-2147483648,         176,      237535, ...,           0,\n",
       "                   1,           2],\n",
       "        [-2147483648,         177,      237801, ...,           0,\n",
       "                   1,           2],\n",
       "        [-2147483648,         178,      238053, ...,           0,\n",
       "                   1,           2],\n",
       "        ...,\n",
       "        [          0,           0,           0, ...,           0,\n",
       "                   0,           0],\n",
       "        [          0,           0,           0, ...,           0,\n",
       "                   0,           0],\n",
       "        [          0,           0,           0, ...,           0,\n",
       "                   0,           0]],\n",
       "\n",
       "       [[-2147483648,         224,      475261, ...,           0,\n",
       "                   1,           2],\n",
       "        [-2147483648,         225,      481226, ...,           0,\n",
       "                   1,           2],\n",
       "        [-2147483648,         226,      481725, ...,           0,\n",
       "                   1,           2],\n",
       "        ...,\n",
       "        [          0,           0,           0, ...,           0,\n",
       "                   0,           0],\n",
       "        [          0,           0,           0, ...,           0,\n",
       "                   0,           0],\n",
       "        [          0,           0,           0, ...,           0,\n",
       "                   0,           0]]])"
      ]
     },
     "execution_count": 68,
     "metadata": {},
     "output_type": "execute_result"
    }
   ],
   "source": [
    "df_lvl3 = tf.keras.utils.pad_sequences(df_lvl3, maxlen = 1000, padding='post')\n",
    "df_lvl3"
   ]
  },
  {
   "cell_type": "code",
   "execution_count": 69,
   "id": "7bfccd5a",
   "metadata": {},
   "outputs": [
    {
     "data": {
      "text/plain": [
       "(23562, 1000, 20)"
      ]
     },
     "execution_count": 69,
     "metadata": {},
     "output_type": "execute_result"
    }
   ],
   "source": [
    "df_lvl1.shape"
   ]
  },
  {
   "cell_type": "code",
   "execution_count": 70,
   "id": "872a6803",
   "metadata": {},
   "outputs": [
    {
     "data": {
      "text/plain": [
       "(23562, 1000, 20)"
      ]
     },
     "execution_count": 70,
     "metadata": {},
     "output_type": "execute_result"
    }
   ],
   "source": [
    "df_lvl2.shape"
   ]
  },
  {
   "cell_type": "code",
   "execution_count": 71,
   "id": "43ffa442",
   "metadata": {},
   "outputs": [
    {
     "data": {
      "text/plain": [
       "(23562, 1000, 20)"
      ]
     },
     "execution_count": 71,
     "metadata": {},
     "output_type": "execute_result"
    }
   ],
   "source": [
    "df_lvl3.shape"
   ]
  },
  {
   "cell_type": "code",
   "execution_count": 72,
   "id": "7e145876",
   "metadata": {},
   "outputs": [],
   "source": [
    "df_lvl1 = df_lvl1[:, :, 1:]"
   ]
  },
  {
   "cell_type": "code",
   "execution_count": 73,
   "id": "26516c55",
   "metadata": {},
   "outputs": [],
   "source": [
    "df_lvl2 = df_lvl2[:, :, 1:]"
   ]
  },
  {
   "cell_type": "code",
   "execution_count": 74,
   "id": "266eda93",
   "metadata": {},
   "outputs": [],
   "source": [
    "df_lvl3 = df_lvl3[:, :, 1:]"
   ]
  },
  {
   "cell_type": "code",
   "execution_count": 75,
   "id": "dcd554ce",
   "metadata": {},
   "outputs": [],
   "source": [
    "df_lvl1 = df_lvl1[:6000]"
   ]
  },
  {
   "cell_type": "code",
   "execution_count": 76,
   "id": "289d57c5",
   "metadata": {},
   "outputs": [],
   "source": [
    "df_lvl2 = df_lvl2[:6000]"
   ]
  },
  {
   "cell_type": "code",
   "execution_count": 77,
   "id": "00a22515",
   "metadata": {},
   "outputs": [],
   "source": [
    "df_lvl3 = df_lvl3[:6000]"
   ]
  },
  {
   "cell_type": "code",
   "execution_count": 78,
   "id": "ed1256be",
   "metadata": {},
   "outputs": [],
   "source": [
    "df_lvl1 = df_lvl1.reshape(6000*1000, 19)"
   ]
  },
  {
   "cell_type": "code",
   "execution_count": 79,
   "id": "ebad0d8d",
   "metadata": {},
   "outputs": [],
   "source": [
    "df_lvl2 = df_lvl2.reshape(6000*1000, 19)"
   ]
  },
  {
   "cell_type": "code",
   "execution_count": 80,
   "id": "ae3a2083",
   "metadata": {},
   "outputs": [],
   "source": [
    "df_lvl3 = df_lvl3.reshape(6000*1000, 19)"
   ]
  },
  {
   "cell_type": "code",
   "execution_count": 81,
   "id": "bbce39cb",
   "metadata": {},
   "outputs": [
    {
     "name": "stdout",
     "output_type": "stream",
     "text": [
      "[[0.00000000e+00 0.00000000e+00 1.00000000e-01 ... 0.00000000e+00\n",
      "  1.00000000e+00 0.00000000e+00]\n",
      " [1.94741967e-04 6.01377763e-06 1.00000000e+00 ... 0.00000000e+00\n",
      "  1.00000000e+00 0.00000000e+00]\n",
      " [3.89483934e-04 3.77736146e-06 1.00000000e+00 ... 0.00000000e+00\n",
      "  1.00000000e+00 0.00000000e+00]\n",
      " ...\n",
      " [0.00000000e+00 0.00000000e+00 0.00000000e+00 ... 0.00000000e+00\n",
      "  0.00000000e+00 0.00000000e+00]\n",
      " [0.00000000e+00 0.00000000e+00 0.00000000e+00 ... 0.00000000e+00\n",
      "  0.00000000e+00 0.00000000e+00]\n",
      " [0.00000000e+00 0.00000000e+00 0.00000000e+00 ... 0.00000000e+00\n",
      "  0.00000000e+00 0.00000000e+00]]\n"
     ]
    }
   ],
   "source": [
    "scaler = MinMaxScaler()\n",
    "# transform data\n",
    "df_lvl1 = scaler.fit_transform(df_lvl1)\n",
    "print(df_lvl1)"
   ]
  },
  {
   "cell_type": "code",
   "execution_count": 82,
   "id": "29c524f6",
   "metadata": {},
   "outputs": [
    {
     "name": "stdout",
     "output_type": "stream",
     "text": [
      "[[0.02500855 0.00143182 0.4        ... 0.         1.         1.        ]\n",
      " [0.02505739 0.00143269 0.4        ... 0.         1.         1.        ]\n",
      " [0.02510624 0.00143361 0.4        ... 0.         1.         1.        ]\n",
      " ...\n",
      " [0.         0.         0.         ... 0.         0.         0.        ]\n",
      " [0.         0.         0.         ... 0.         0.         0.        ]\n",
      " [0.         0.         0.         ... 0.         0.         0.        ]]\n"
     ]
    }
   ],
   "source": [
    "scaler = MinMaxScaler()\n",
    "# transform data\n",
    "df_lvl2 = scaler.fit_transform(df_lvl2)\n",
    "print(df_lvl2)"
   ]
  },
  {
   "cell_type": "code",
   "execution_count": 83,
   "id": "1a4cb019",
   "metadata": {},
   "outputs": [
    {
     "name": "stdout",
     "output_type": "stream",
     "text": [
      "[[9.61644137e-03 6.36055640e-04 4.00000000e-01 ... 0.00000000e+00\n",
      "  1.00000000e+00 1.00000000e+00]\n",
      " [9.67139246e-03 6.38493779e-04 1.00000000e+00 ... 0.00000000e+00\n",
      "  1.00000000e+00 1.00000000e+00]\n",
      " [9.72634355e-03 6.41127199e-04 1.00000000e+00 ... 0.00000000e+00\n",
      "  1.00000000e+00 1.00000000e+00]\n",
      " ...\n",
      " [0.00000000e+00 0.00000000e+00 0.00000000e+00 ... 0.00000000e+00\n",
      "  0.00000000e+00 0.00000000e+00]\n",
      " [0.00000000e+00 0.00000000e+00 0.00000000e+00 ... 0.00000000e+00\n",
      "  0.00000000e+00 0.00000000e+00]\n",
      " [0.00000000e+00 0.00000000e+00 0.00000000e+00 ... 0.00000000e+00\n",
      "  0.00000000e+00 0.00000000e+00]]\n"
     ]
    }
   ],
   "source": [
    "scaler = MinMaxScaler()\n",
    "# transform data\n",
    "df_lvl3 = scaler.fit_transform(df_lvl3)\n",
    "print(df_lvl3)"
   ]
  },
  {
   "cell_type": "code",
   "execution_count": 84,
   "id": "894707d2",
   "metadata": {},
   "outputs": [],
   "source": [
    "df_lvl1 = df_lvl1.reshape(6000, 1000, 19)"
   ]
  },
  {
   "cell_type": "code",
   "execution_count": 85,
   "id": "3cd5be78",
   "metadata": {},
   "outputs": [],
   "source": [
    "df_lvl2 = df_lvl2.reshape(6000, 1000, 19)"
   ]
  },
  {
   "cell_type": "code",
   "execution_count": 86,
   "id": "bb9cc036",
   "metadata": {},
   "outputs": [],
   "source": [
    "df_lvl3 = df_lvl3.reshape(6000, 1000, 19)"
   ]
  },
  {
   "cell_type": "code",
   "execution_count": 87,
   "id": "ee172c73",
   "metadata": {},
   "outputs": [
    {
     "data": {
      "text/plain": [
       "(6000, 1000, 19)"
      ]
     },
     "execution_count": 87,
     "metadata": {},
     "output_type": "execute_result"
    }
   ],
   "source": [
    "df_lvl1.shape"
   ]
  },
  {
   "cell_type": "code",
   "execution_count": 88,
   "id": "6e5f27ae",
   "metadata": {},
   "outputs": [
    {
     "data": {
      "text/plain": [
       "(6000, 1000, 19)"
      ]
     },
     "execution_count": 88,
     "metadata": {},
     "output_type": "execute_result"
    }
   ],
   "source": [
    "df_lvl2.shape"
   ]
  },
  {
   "cell_type": "code",
   "execution_count": 89,
   "id": "8c2c0781",
   "metadata": {},
   "outputs": [
    {
     "data": {
      "text/plain": [
       "(6000, 1000, 19)"
      ]
     },
     "execution_count": 89,
     "metadata": {},
     "output_type": "execute_result"
    }
   ],
   "source": [
    "df_lvl3.shape"
   ]
  },
  {
   "cell_type": "code",
   "execution_count": 90,
   "id": "a0993434",
   "metadata": {},
   "outputs": [],
   "source": [
    "# level_by_session"
   ]
  },
  {
   "cell_type": "code",
   "execution_count": 91,
   "id": "ef2605d7",
   "metadata": {},
   "outputs": [],
   "source": [
    "# session_data = df.groupby('session_id' ).apply(lambda x: np.array(x))\n",
    "# session_data"
   ]
  },
  {
   "cell_type": "code",
   "execution_count": 92,
   "id": "9763fa50",
   "metadata": {},
   "outputs": [],
   "source": [
    "# data_by_session = session_data.reset_index()"
   ]
  },
  {
   "cell_type": "code",
   "execution_count": 93,
   "id": "0d6a8e9e",
   "metadata": {},
   "outputs": [],
   "source": [
    "# data_by_session"
   ]
  },
  {
   "cell_type": "code",
   "execution_count": 94,
   "id": "2b6d4bdf",
   "metadata": {},
   "outputs": [],
   "source": [
    "# data_by_session = data_by_session.iloc[:,1]"
   ]
  },
  {
   "cell_type": "code",
   "execution_count": 95,
   "id": "01debaa0",
   "metadata": {},
   "outputs": [],
   "source": [
    "# data_by_session"
   ]
  },
  {
   "cell_type": "code",
   "execution_count": 96,
   "id": "1a572473",
   "metadata": {},
   "outputs": [],
   "source": [
    "# data_by_session.shape"
   ]
  },
  {
   "cell_type": "code",
   "execution_count": 97,
   "id": "0379cfa5",
   "metadata": {},
   "outputs": [],
   "source": [
    "# data_by_session[0].shape"
   ]
  },
  {
   "cell_type": "code",
   "execution_count": 98,
   "id": "e5057d0d",
   "metadata": {},
   "outputs": [],
   "source": [
    "# data_by_session[0][0]"
   ]
  },
  {
   "cell_type": "code",
   "execution_count": 99,
   "id": "c05223b6",
   "metadata": {},
   "outputs": [],
   "source": [
    "# data_by_session[2].shape"
   ]
  },
  {
   "cell_type": "code",
   "execution_count": 100,
   "id": "15ebd484",
   "metadata": {},
   "outputs": [],
   "source": [
    "# lengths =[]\n",
    "# for session in session_data:\n",
    "#     lengths.append(session.shape[0])"
   ]
  },
  {
   "cell_type": "code",
   "execution_count": 101,
   "id": "5c615704",
   "metadata": {},
   "outputs": [],
   "source": [
    "# avg = sum(lengths) / len(lengths)\n",
    "# avg"
   ]
  },
  {
   "cell_type": "code",
   "execution_count": 102,
   "id": "5aced40b",
   "metadata": {},
   "outputs": [],
   "source": [
    "# max_events = max(lengths)\n",
    "# max_events"
   ]
  },
  {
   "cell_type": "code",
   "execution_count": 103,
   "id": "3d683268",
   "metadata": {},
   "outputs": [],
   "source": [
    "# min(lengths)"
   ]
  },
  {
   "cell_type": "code",
   "execution_count": 104,
   "id": "ab66f22f",
   "metadata": {},
   "outputs": [],
   "source": [
    "# total_over = 0\n",
    "# for i in lengths:\n",
    "#     if i > 2000:\n",
    "#         total_over += 1\n",
    "# total_over"
   ]
  },
  {
   "cell_type": "code",
   "execution_count": 105,
   "id": "180ddb27",
   "metadata": {},
   "outputs": [],
   "source": [
    "# data_by_session_test = tf.keras.utils.pad_sequences(data_by_session, maxlen = 2000, padding='post')"
   ]
  },
  {
   "cell_type": "code",
   "execution_count": 106,
   "id": "34b2e3ce",
   "metadata": {},
   "outputs": [],
   "source": [
    "# data_by_session_test"
   ]
  },
  {
   "cell_type": "code",
   "execution_count": 107,
   "id": "60faded9",
   "metadata": {},
   "outputs": [],
   "source": [
    "# data_by_session_test.shape"
   ]
  },
  {
   "cell_type": "code",
   "execution_count": 108,
   "id": "3fb3fa24",
   "metadata": {},
   "outputs": [],
   "source": [
    "# data_by_session_test[2000]"
   ]
  },
  {
   "cell_type": "code",
   "execution_count": 109,
   "id": "a0fb0270",
   "metadata": {},
   "outputs": [],
   "source": [
    "# data_by_session_test[2000].shape"
   ]
  },
  {
   "cell_type": "code",
   "execution_count": 110,
   "id": "20e424d0",
   "metadata": {},
   "outputs": [],
   "source": [
    "# data_by_session_test[23][0]"
   ]
  },
  {
   "cell_type": "code",
   "execution_count": 111,
   "id": "e3ca983b",
   "metadata": {},
   "outputs": [],
   "source": [
    "# data_by_session_test[26][2][0]"
   ]
  },
  {
   "cell_type": "code",
   "execution_count": 112,
   "id": "02962a44",
   "metadata": {},
   "outputs": [],
   "source": [
    "# data_by_session_test[2000][0].shape"
   ]
  },
  {
   "cell_type": "code",
   "execution_count": 113,
   "id": "819e7fb3",
   "metadata": {},
   "outputs": [],
   "source": [
    "# data_by_session_test = data_by_session_test[:, :, 1:]"
   ]
  },
  {
   "cell_type": "code",
   "execution_count": 114,
   "id": "c2819b5b",
   "metadata": {},
   "outputs": [],
   "source": [
    "# data_by_session_test.shape"
   ]
  },
  {
   "cell_type": "code",
   "execution_count": 115,
   "id": "e5a8f1a7",
   "metadata": {},
   "outputs": [],
   "source": [
    "# df_f = data_by_session_test[:6000]"
   ]
  },
  {
   "cell_type": "code",
   "execution_count": 116,
   "id": "10f34862",
   "metadata": {},
   "outputs": [],
   "source": [
    "# df_f.shape"
   ]
  },
  {
   "cell_type": "code",
   "execution_count": 117,
   "id": "901598b9",
   "metadata": {},
   "outputs": [],
   "source": [
    "# df_n = df_f.reshape(6000*2000, 19)"
   ]
  },
  {
   "cell_type": "code",
   "execution_count": 118,
   "id": "c36de542",
   "metadata": {},
   "outputs": [],
   "source": [
    "# df_n"
   ]
  },
  {
   "cell_type": "code",
   "execution_count": 119,
   "id": "a7194c9f",
   "metadata": {},
   "outputs": [],
   "source": [
    "# scaler = MinMaxScaler()\n",
    "# # transform data\n",
    "# df_n = scaler.fit_transform(df_n)\n",
    "# print(df_n)"
   ]
  },
  {
   "cell_type": "code",
   "execution_count": 120,
   "id": "cf32dd71",
   "metadata": {},
   "outputs": [],
   "source": [
    "# df_n"
   ]
  },
  {
   "cell_type": "code",
   "execution_count": 121,
   "id": "478300cc",
   "metadata": {},
   "outputs": [],
   "source": [
    "# df_f = df_n.reshape(6000, 2000, 19)"
   ]
  },
  {
   "cell_type": "code",
   "execution_count": 122,
   "id": "5025d870",
   "metadata": {},
   "outputs": [],
   "source": [
    "# df_f"
   ]
  },
  {
   "cell_type": "code",
   "execution_count": 123,
   "id": "83693070",
   "metadata": {},
   "outputs": [],
   "source": [
    "# df_f[0][2]"
   ]
  },
  {
   "cell_type": "code",
   "execution_count": 124,
   "id": "b5765559",
   "metadata": {},
   "outputs": [],
   "source": [
    "# df_f[:,][:,][18]"
   ]
  },
  {
   "cell_type": "code",
   "execution_count": 125,
   "id": "12690cb7",
   "metadata": {},
   "outputs": [],
   "source": [
    "# df_f.shape"
   ]
  },
  {
   "cell_type": "code",
   "execution_count": 126,
   "id": "d2cb5d08",
   "metadata": {},
   "outputs": [],
   "source": [
    "# lengths2 =[]\n",
    "# for session in data_by_session_test:\n",
    "#     lengths2.append(session.shape[0])"
   ]
  },
  {
   "cell_type": "code",
   "execution_count": 127,
   "id": "105869e5",
   "metadata": {},
   "outputs": [],
   "source": [
    "# max(lengths2)"
   ]
  },
  {
   "cell_type": "code",
   "execution_count": 128,
   "id": "3b07bf41",
   "metadata": {},
   "outputs": [],
   "source": [
    "# min(lengths2)"
   ]
  },
  {
   "cell_type": "code",
   "execution_count": 129,
   "id": "77de286b",
   "metadata": {},
   "outputs": [],
   "source": [
    "sid = df.session_id.unique()"
   ]
  },
  {
   "cell_type": "code",
   "execution_count": 130,
   "id": "c32aad5d",
   "metadata": {},
   "outputs": [
    {
     "data": {
      "text/plain": [
       "(23562,)"
      ]
     },
     "execution_count": 130,
     "metadata": {},
     "output_type": "execute_result"
    }
   ],
   "source": [
    "sid.shape"
   ]
  },
  {
   "cell_type": "code",
   "execution_count": 131,
   "id": "a9c3218d",
   "metadata": {},
   "outputs": [
    {
     "data": {
      "text/plain": [
       "array([20090312431273200, 20090312433251036, 20090312455206810, ...,\n",
       "       22100217104993650, 22100219442786200, 22100221145014656],\n",
       "      dtype=int64)"
      ]
     },
     "execution_count": 131,
     "metadata": {},
     "output_type": "execute_result"
    }
   ],
   "source": [
    "sid"
   ]
  },
  {
   "cell_type": "code",
   "execution_count": 132,
   "id": "50136f9d",
   "metadata": {},
   "outputs": [],
   "source": [
    "session_correct = [[sid]]"
   ]
  },
  {
   "cell_type": "code",
   "execution_count": 133,
   "id": "9bd1740f",
   "metadata": {},
   "outputs": [
    {
     "data": {
      "text/plain": [
       "question\n",
       "1     [[1, 20090312431273200, 1], [0, 20090312433251...\n",
       "2     [[1, 20090312431273200, 2], [1, 20090312433251...\n",
       "3     [[1, 20090312431273200, 3], [1, 20090312433251...\n",
       "4     [[1, 20090312431273200, 4], [1, 20090312433251...\n",
       "5     [[1, 20090312431273200, 5], [0, 20090312433251...\n",
       "6     [[1, 20090312431273200, 6], [1, 20090312433251...\n",
       "7     [[1, 20090312431273200, 7], [1, 20090312433251...\n",
       "8     [[1, 20090312431273200, 8], [0, 20090312433251...\n",
       "9     [[1, 20090312431273200, 9], [1, 20090312433251...\n",
       "10    [[1, 20090312431273200, 10], [0, 2009031243325...\n",
       "11    [[1, 20090312431273200, 11], [0, 2009031243325...\n",
       "12    [[1, 20090312431273200, 12], [1, 2009031243325...\n",
       "13    [[0, 20090312431273200, 13], [0, 2009031243325...\n",
       "14    [[1, 20090312431273200, 14], [1, 2009031243325...\n",
       "15    [[1, 20090312431273200, 15], [0, 2009031243325...\n",
       "16    [[0, 20090312431273200, 16], [1, 2009031243325...\n",
       "17    [[1, 20090312431273200, 17], [0, 2009031243325...\n",
       "18    [[1, 20090312431273200, 18], [1, 2009031243325...\n",
       "dtype: object"
      ]
     },
     "execution_count": 133,
     "metadata": {},
     "output_type": "execute_result"
    }
   ],
   "source": [
    "correct = labels.groupby('question').apply(lambda x: np.array(x))\n",
    "correct"
   ]
  },
  {
   "cell_type": "code",
   "execution_count": 134,
   "id": "5e974286",
   "metadata": {},
   "outputs": [],
   "source": [
    "correct = correct.reset_index()"
   ]
  },
  {
   "cell_type": "code",
   "execution_count": 135,
   "id": "dd8c6567",
   "metadata": {},
   "outputs": [],
   "source": [
    "correct = correct.iloc[:,1]"
   ]
  },
  {
   "cell_type": "code",
   "execution_count": 136,
   "id": "a1e65657",
   "metadata": {},
   "outputs": [
    {
     "data": {
      "text/plain": [
       "0     [[1, 20090312431273200, 1], [0, 20090312433251...\n",
       "1     [[1, 20090312431273200, 2], [1, 20090312433251...\n",
       "2     [[1, 20090312431273200, 3], [1, 20090312433251...\n",
       "3     [[1, 20090312431273200, 4], [1, 20090312433251...\n",
       "4     [[1, 20090312431273200, 5], [0, 20090312433251...\n",
       "5     [[1, 20090312431273200, 6], [1, 20090312433251...\n",
       "6     [[1, 20090312431273200, 7], [1, 20090312433251...\n",
       "7     [[1, 20090312431273200, 8], [0, 20090312433251...\n",
       "8     [[1, 20090312431273200, 9], [1, 20090312433251...\n",
       "9     [[1, 20090312431273200, 10], [0, 2009031243325...\n",
       "10    [[1, 20090312431273200, 11], [0, 2009031243325...\n",
       "11    [[1, 20090312431273200, 12], [1, 2009031243325...\n",
       "12    [[0, 20090312431273200, 13], [0, 2009031243325...\n",
       "13    [[1, 20090312431273200, 14], [1, 2009031243325...\n",
       "14    [[1, 20090312431273200, 15], [0, 2009031243325...\n",
       "15    [[0, 20090312431273200, 16], [1, 2009031243325...\n",
       "16    [[1, 20090312431273200, 17], [0, 2009031243325...\n",
       "17    [[1, 20090312431273200, 18], [1, 2009031243325...\n",
       "Name: 0, dtype: object"
      ]
     },
     "execution_count": 136,
     "metadata": {},
     "output_type": "execute_result"
    }
   ],
   "source": [
    "correct"
   ]
  },
  {
   "cell_type": "code",
   "execution_count": 137,
   "id": "5e02d1e5",
   "metadata": {},
   "outputs": [
    {
     "data": {
      "text/plain": [
       "(18,)"
      ]
     },
     "execution_count": 137,
     "metadata": {},
     "output_type": "execute_result"
    }
   ],
   "source": [
    "correct.shape"
   ]
  },
  {
   "cell_type": "code",
   "execution_count": 138,
   "id": "88d02bae",
   "metadata": {},
   "outputs": [
    {
     "data": {
      "text/plain": [
       "(23562, 3)"
      ]
     },
     "execution_count": 138,
     "metadata": {},
     "output_type": "execute_result"
    }
   ],
   "source": [
    "correct[17].shape"
   ]
  },
  {
   "cell_type": "code",
   "execution_count": 139,
   "id": "753900d4",
   "metadata": {},
   "outputs": [
    {
     "data": {
      "text/plain": [
       "(23562, 3)"
      ]
     },
     "execution_count": 139,
     "metadata": {},
     "output_type": "execute_result"
    }
   ],
   "source": [
    "correct[0].shape"
   ]
  },
  {
   "cell_type": "code",
   "execution_count": 140,
   "id": "754c59e1",
   "metadata": {},
   "outputs": [],
   "source": [
    "# for q in correct:\n",
    "#     q.truncate(after=6000)"
   ]
  },
  {
   "cell_type": "code",
   "execution_count": 141,
   "id": "469f4203",
   "metadata": {},
   "outputs": [],
   "source": [
    "# correct[0].iloc[:,0]"
   ]
  },
  {
   "cell_type": "code",
   "execution_count": 142,
   "id": "722d3ffd",
   "metadata": {},
   "outputs": [],
   "source": [
    "# for q in range(0,17):\n",
    "#     correct[i] = pd.DataFrame(correct, columns = ['Correct','session_id','Question'])    "
   ]
  },
  {
   "cell_type": "code",
   "execution_count": 143,
   "id": "582a8c59",
   "metadata": {},
   "outputs": [
    {
     "data": {
      "text/plain": [
       "array([[                1, 20090312431273200,                 1],\n",
       "       [                0, 20090312433251036,                 1],\n",
       "       [                1, 20090312455206810,                 1],\n",
       "       ...,\n",
       "       [                1, 22100217104993650,                 1],\n",
       "       [                0, 22100219442786200,                 1],\n",
       "       [                0, 22100221145014656,                 1]],\n",
       "      dtype=int64)"
      ]
     },
     "execution_count": 143,
     "metadata": {},
     "output_type": "execute_result"
    }
   ],
   "source": [
    "correct[0]"
   ]
  },
  {
   "cell_type": "code",
   "execution_count": 144,
   "id": "706ae9da",
   "metadata": {},
   "outputs": [
    {
     "data": {
      "text/plain": [
       "array([[                1, 20090312431273200,                 3],\n",
       "       [                1, 20090312433251036,                 3],\n",
       "       [                1, 20090312455206810,                 3],\n",
       "       ...,\n",
       "       [                1, 22100217104993650,                 3],\n",
       "       [                1, 22100219442786200,                 3],\n",
       "       [                0, 22100221145014656,                 3]],\n",
       "      dtype=int64)"
      ]
     },
     "execution_count": 144,
     "metadata": {},
     "output_type": "execute_result"
    }
   ],
   "source": [
    "correct[2]"
   ]
  },
  {
   "cell_type": "code",
   "execution_count": 145,
   "id": "a63b8655",
   "metadata": {},
   "outputs": [
    {
     "data": {
      "text/plain": [
       "(424116, 3)"
      ]
     },
     "execution_count": 145,
     "metadata": {},
     "output_type": "execute_result"
    }
   ],
   "source": [
    "labels.shape"
   ]
  },
  {
   "cell_type": "code",
   "execution_count": 146,
   "id": "a4b9cfba",
   "metadata": {},
   "outputs": [
    {
     "data": {
      "text/html": [
       "<div>\n",
       "<style scoped>\n",
       "    .dataframe tbody tr th:only-of-type {\n",
       "        vertical-align: middle;\n",
       "    }\n",
       "\n",
       "    .dataframe tbody tr th {\n",
       "        vertical-align: top;\n",
       "    }\n",
       "\n",
       "    .dataframe thead th {\n",
       "        text-align: right;\n",
       "    }\n",
       "</style>\n",
       "<table border=\"1\" class=\"dataframe\">\n",
       "  <thead>\n",
       "    <tr style=\"text-align: right;\">\n",
       "      <th></th>\n",
       "      <th>1</th>\n",
       "      <th>2</th>\n",
       "      <th>3</th>\n",
       "      <th>4</th>\n",
       "      <th>5</th>\n",
       "      <th>6</th>\n",
       "      <th>7</th>\n",
       "      <th>8</th>\n",
       "      <th>9</th>\n",
       "      <th>10</th>\n",
       "      <th>11</th>\n",
       "      <th>12</th>\n",
       "      <th>13</th>\n",
       "      <th>14</th>\n",
       "      <th>15</th>\n",
       "      <th>16</th>\n",
       "      <th>17</th>\n",
       "      <th>18</th>\n",
       "    </tr>\n",
       "    <tr>\n",
       "      <th>session</th>\n",
       "      <th></th>\n",
       "      <th></th>\n",
       "      <th></th>\n",
       "      <th></th>\n",
       "      <th></th>\n",
       "      <th></th>\n",
       "      <th></th>\n",
       "      <th></th>\n",
       "      <th></th>\n",
       "      <th></th>\n",
       "      <th></th>\n",
       "      <th></th>\n",
       "      <th></th>\n",
       "      <th></th>\n",
       "      <th></th>\n",
       "      <th></th>\n",
       "      <th></th>\n",
       "      <th></th>\n",
       "    </tr>\n",
       "  </thead>\n",
       "  <tbody>\n",
       "    <tr>\n",
       "      <th>20090312431273200</th>\n",
       "      <td>1</td>\n",
       "      <td>1</td>\n",
       "      <td>1</td>\n",
       "      <td>1</td>\n",
       "      <td>1</td>\n",
       "      <td>1</td>\n",
       "      <td>1</td>\n",
       "      <td>1</td>\n",
       "      <td>1</td>\n",
       "      <td>1</td>\n",
       "      <td>1</td>\n",
       "      <td>1</td>\n",
       "      <td>0</td>\n",
       "      <td>1</td>\n",
       "      <td>1</td>\n",
       "      <td>0</td>\n",
       "      <td>1</td>\n",
       "      <td>1</td>\n",
       "    </tr>\n",
       "    <tr>\n",
       "      <th>20090312433251036</th>\n",
       "      <td>0</td>\n",
       "      <td>1</td>\n",
       "      <td>1</td>\n",
       "      <td>1</td>\n",
       "      <td>0</td>\n",
       "      <td>1</td>\n",
       "      <td>1</td>\n",
       "      <td>0</td>\n",
       "      <td>1</td>\n",
       "      <td>0</td>\n",
       "      <td>0</td>\n",
       "      <td>1</td>\n",
       "      <td>0</td>\n",
       "      <td>1</td>\n",
       "      <td>0</td>\n",
       "      <td>1</td>\n",
       "      <td>0</td>\n",
       "      <td>1</td>\n",
       "    </tr>\n",
       "    <tr>\n",
       "      <th>20090312455206810</th>\n",
       "      <td>1</td>\n",
       "      <td>1</td>\n",
       "      <td>1</td>\n",
       "      <td>1</td>\n",
       "      <td>1</td>\n",
       "      <td>1</td>\n",
       "      <td>1</td>\n",
       "      <td>1</td>\n",
       "      <td>1</td>\n",
       "      <td>1</td>\n",
       "      <td>1</td>\n",
       "      <td>1</td>\n",
       "      <td>1</td>\n",
       "      <td>1</td>\n",
       "      <td>0</td>\n",
       "      <td>1</td>\n",
       "      <td>1</td>\n",
       "      <td>1</td>\n",
       "    </tr>\n",
       "    <tr>\n",
       "      <th>20090313091715820</th>\n",
       "      <td>0</td>\n",
       "      <td>1</td>\n",
       "      <td>1</td>\n",
       "      <td>1</td>\n",
       "      <td>1</td>\n",
       "      <td>0</td>\n",
       "      <td>1</td>\n",
       "      <td>1</td>\n",
       "      <td>1</td>\n",
       "      <td>0</td>\n",
       "      <td>0</td>\n",
       "      <td>1</td>\n",
       "      <td>0</td>\n",
       "      <td>1</td>\n",
       "      <td>0</td>\n",
       "      <td>1</td>\n",
       "      <td>1</td>\n",
       "      <td>1</td>\n",
       "    </tr>\n",
       "    <tr>\n",
       "      <th>20090313571836404</th>\n",
       "      <td>1</td>\n",
       "      <td>1</td>\n",
       "      <td>1</td>\n",
       "      <td>1</td>\n",
       "      <td>1</td>\n",
       "      <td>1</td>\n",
       "      <td>1</td>\n",
       "      <td>1</td>\n",
       "      <td>1</td>\n",
       "      <td>1</td>\n",
       "      <td>1</td>\n",
       "      <td>0</td>\n",
       "      <td>1</td>\n",
       "      <td>0</td>\n",
       "      <td>1</td>\n",
       "      <td>1</td>\n",
       "      <td>1</td>\n",
       "      <td>1</td>\n",
       "    </tr>\n",
       "    <tr>\n",
       "      <th>...</th>\n",
       "      <td>...</td>\n",
       "      <td>...</td>\n",
       "      <td>...</td>\n",
       "      <td>...</td>\n",
       "      <td>...</td>\n",
       "      <td>...</td>\n",
       "      <td>...</td>\n",
       "      <td>...</td>\n",
       "      <td>...</td>\n",
       "      <td>...</td>\n",
       "      <td>...</td>\n",
       "      <td>...</td>\n",
       "      <td>...</td>\n",
       "      <td>...</td>\n",
       "      <td>...</td>\n",
       "      <td>...</td>\n",
       "      <td>...</td>\n",
       "      <td>...</td>\n",
       "    </tr>\n",
       "    <tr>\n",
       "      <th>22100215342220508</th>\n",
       "      <td>1</td>\n",
       "      <td>1</td>\n",
       "      <td>1</td>\n",
       "      <td>1</td>\n",
       "      <td>1</td>\n",
       "      <td>1</td>\n",
       "      <td>1</td>\n",
       "      <td>0</td>\n",
       "      <td>1</td>\n",
       "      <td>1</td>\n",
       "      <td>1</td>\n",
       "      <td>1</td>\n",
       "      <td>0</td>\n",
       "      <td>1</td>\n",
       "      <td>1</td>\n",
       "      <td>1</td>\n",
       "      <td>1</td>\n",
       "      <td>1</td>\n",
       "    </tr>\n",
       "    <tr>\n",
       "      <th>22100215460321130</th>\n",
       "      <td>0</td>\n",
       "      <td>1</td>\n",
       "      <td>1</td>\n",
       "      <td>1</td>\n",
       "      <td>0</td>\n",
       "      <td>1</td>\n",
       "      <td>1</td>\n",
       "      <td>0</td>\n",
       "      <td>1</td>\n",
       "      <td>0</td>\n",
       "      <td>1</td>\n",
       "      <td>1</td>\n",
       "      <td>0</td>\n",
       "      <td>1</td>\n",
       "      <td>0</td>\n",
       "      <td>1</td>\n",
       "      <td>1</td>\n",
       "      <td>1</td>\n",
       "    </tr>\n",
       "    <tr>\n",
       "      <th>22100217104993650</th>\n",
       "      <td>1</td>\n",
       "      <td>1</td>\n",
       "      <td>1</td>\n",
       "      <td>1</td>\n",
       "      <td>1</td>\n",
       "      <td>1</td>\n",
       "      <td>1</td>\n",
       "      <td>1</td>\n",
       "      <td>1</td>\n",
       "      <td>0</td>\n",
       "      <td>1</td>\n",
       "      <td>1</td>\n",
       "      <td>1</td>\n",
       "      <td>1</td>\n",
       "      <td>0</td>\n",
       "      <td>0</td>\n",
       "      <td>1</td>\n",
       "      <td>1</td>\n",
       "    </tr>\n",
       "    <tr>\n",
       "      <th>22100219442786200</th>\n",
       "      <td>0</td>\n",
       "      <td>1</td>\n",
       "      <td>1</td>\n",
       "      <td>1</td>\n",
       "      <td>1</td>\n",
       "      <td>1</td>\n",
       "      <td>1</td>\n",
       "      <td>0</td>\n",
       "      <td>1</td>\n",
       "      <td>0</td>\n",
       "      <td>1</td>\n",
       "      <td>1</td>\n",
       "      <td>0</td>\n",
       "      <td>1</td>\n",
       "      <td>0</td>\n",
       "      <td>1</td>\n",
       "      <td>1</td>\n",
       "      <td>1</td>\n",
       "    </tr>\n",
       "    <tr>\n",
       "      <th>22100221145014656</th>\n",
       "      <td>0</td>\n",
       "      <td>1</td>\n",
       "      <td>0</td>\n",
       "      <td>1</td>\n",
       "      <td>0</td>\n",
       "      <td>0</td>\n",
       "      <td>0</td>\n",
       "      <td>0</td>\n",
       "      <td>1</td>\n",
       "      <td>0</td>\n",
       "      <td>1</td>\n",
       "      <td>1</td>\n",
       "      <td>0</td>\n",
       "      <td>0</td>\n",
       "      <td>0</td>\n",
       "      <td>0</td>\n",
       "      <td>1</td>\n",
       "      <td>1</td>\n",
       "    </tr>\n",
       "  </tbody>\n",
       "</table>\n",
       "<p>23562 rows × 18 columns</p>\n",
       "</div>"
      ],
      "text/plain": [
       "                   1   2   3   4   5   6   7   8   9   10  11  12  13  14  15  \\\n",
       "session                                                                         \n",
       "20090312431273200   1   1   1   1   1   1   1   1   1   1   1   1   0   1   1   \n",
       "20090312433251036   0   1   1   1   0   1   1   0   1   0   0   1   0   1   0   \n",
       "20090312455206810   1   1   1   1   1   1   1   1   1   1   1   1   1   1   0   \n",
       "20090313091715820   0   1   1   1   1   0   1   1   1   0   0   1   0   1   0   \n",
       "20090313571836404   1   1   1   1   1   1   1   1   1   1   1   0   1   0   1   \n",
       "...                ..  ..  ..  ..  ..  ..  ..  ..  ..  ..  ..  ..  ..  ..  ..   \n",
       "22100215342220508   1   1   1   1   1   1   1   0   1   1   1   1   0   1   1   \n",
       "22100215460321130   0   1   1   1   0   1   1   0   1   0   1   1   0   1   0   \n",
       "22100217104993650   1   1   1   1   1   1   1   1   1   0   1   1   1   1   0   \n",
       "22100219442786200   0   1   1   1   1   1   1   0   1   0   1   1   0   1   0   \n",
       "22100221145014656   0   1   0   1   0   0   0   0   1   0   1   1   0   0   0   \n",
       "\n",
       "                   16  17  18  \n",
       "session                        \n",
       "20090312431273200   0   1   1  \n",
       "20090312433251036   1   0   1  \n",
       "20090312455206810   1   1   1  \n",
       "20090313091715820   1   1   1  \n",
       "20090313571836404   1   1   1  \n",
       "...                ..  ..  ..  \n",
       "22100215342220508   1   1   1  \n",
       "22100215460321130   1   1   1  \n",
       "22100217104993650   0   1   1  \n",
       "22100219442786200   1   1   1  \n",
       "22100221145014656   0   1   1  \n",
       "\n",
       "[23562 rows x 18 columns]"
      ]
     },
     "execution_count": 146,
     "metadata": {},
     "output_type": "execute_result"
    }
   ],
   "source": [
    "labels = labels.pivot(columns='question', values='correct', index='session')\n",
    "labels.columns = [i for i in range(1, 19)] \n",
    "labels"
   ]
  },
  {
   "cell_type": "code",
   "execution_count": 147,
   "id": "4989c600",
   "metadata": {},
   "outputs": [
    {
     "data": {
      "text/plain": [
       "(23562, 18)"
      ]
     },
     "execution_count": 147,
     "metadata": {},
     "output_type": "execute_result"
    }
   ],
   "source": [
    "labels.shape"
   ]
  },
  {
   "cell_type": "code",
   "execution_count": 148,
   "id": "1f7ef115",
   "metadata": {},
   "outputs": [],
   "source": [
    "labels_f = labels[:6000]"
   ]
  },
  {
   "cell_type": "code",
   "execution_count": 149,
   "id": "aad2a3df",
   "metadata": {},
   "outputs": [
    {
     "data": {
      "text/plain": [
       "(6000, 18)"
      ]
     },
     "execution_count": 149,
     "metadata": {},
     "output_type": "execute_result"
    }
   ],
   "source": [
    "labels_f.shape"
   ]
  },
  {
   "cell_type": "code",
   "execution_count": 150,
   "id": "f74853bb",
   "metadata": {},
   "outputs": [
    {
     "data": {
      "text/plain": [
       "array([1, 1, 1, ..., 1, 1, 1], dtype=int64)"
      ]
     },
     "execution_count": 150,
     "metadata": {},
     "output_type": "execute_result"
    }
   ],
   "source": [
    "qn=2\n",
    "labels_f[qn].values"
   ]
  },
  {
   "cell_type": "code",
   "execution_count": 151,
   "id": "eeb62201",
   "metadata": {},
   "outputs": [
    {
     "data": {
      "text/plain": [
       "array([1, 1, 1, ..., 1, 1, 1], dtype=int64)"
      ]
     },
     "execution_count": 151,
     "metadata": {},
     "output_type": "execute_result"
    }
   ],
   "source": [
    "labels_q1 = labels_f[qn].to_numpy()\n",
    "labels_q1"
   ]
  },
  {
   "cell_type": "code",
   "execution_count": 152,
   "id": "7e33db1d",
   "metadata": {},
   "outputs": [],
   "source": [
    "# Create an empty dictionary to store the models created for each question.\n",
    "models = {}\n",
    "\n",
    "# Create an empty dictionary to store the evaluation score for each question.\n",
    "evaluation_dict ={}"
   ]
  },
  {
   "cell_type": "code",
   "execution_count": 153,
   "id": "6676e604",
   "metadata": {},
   "outputs": [],
   "source": [
    "from tensorflow import keras\n",
    "from keras.models import Sequential\n",
    "# from keras.layers import Dense\n",
    "# from keras.layers import LSTM\n",
    "from keras.layers import Dense, Activation, LSTM, Embedding, Dropout\n",
    "from keras import optimizers"
   ]
  },
  {
   "cell_type": "code",
   "execution_count": 154,
   "id": "8f4926fd",
   "metadata": {},
   "outputs": [],
   "source": [
    "# n_input = 2000\n",
    "# # 23562\n",
    "# # 18849\n",
    "# n_features = 19\n",
    "\n",
    "# # define model\n",
    "# model = Sequential()\n",
    "# model.add(LSTM(20, activation='relu', input_shape=(1000, 19), return_sequences=True))\n",
    "\n",
    "# # model.add(LSTM(10, activation='relu', return_sequences=True))\n",
    "# # model.add(Dense(1))\n",
    "# model.add(Dense(1, activation='sigmoid'))\n",
    "# # model.add(Dense(1))\n",
    "# # model.add(Activation('sigmoid'))\n",
    "\n",
    "\n",
    "# model.compile(optimizer=sgd, loss='mse')\n",
    "# model.summary()\n",
    "\n"
   ]
  },
  {
   "cell_type": "code",
   "execution_count": 160,
   "id": "7f8a7665",
   "metadata": {},
   "outputs": [
    {
     "name": "stdout",
     "output_type": "stream",
     "text": [
      "Model: \"sequential_2\"\n",
      "_________________________________________________________________\n",
      " Layer (type)                Output Shape              Param #   \n",
      "=================================================================\n",
      " lstm_3 (LSTM)               (None, 20)                3200      \n",
      "                                                                 \n",
      " dense_2 (Dense)             (None, 1)                 21        \n",
      "                                                                 \n",
      "=================================================================\n",
      "Total params: 3,221\n",
      "Trainable params: 3,221\n",
      "Non-trainable params: 0\n",
      "_________________________________________________________________\n"
     ]
    }
   ],
   "source": [
    "model = keras.Sequential()\n",
    "model.add(LSTM(20, input_shape = (1000, 19)))\n",
    "# model.add(LSTM(20, input_shape = (1000, 19), return_sequences = True))\n",
    "# model.add(Dropout(0.2))\n",
    "# model.add(LSTM(15))\n",
    "model.add(Dense(1, activation=\"sigmoid\"))\n",
    "\n",
    "# sgd = optimizers.SGD(lr=0.2, decay=1e-6, momentum=0.9, nesterov=True)\n",
    "sgd = optimizers.SGD(lr=0.2)\n",
    "\n",
    "model.compile(loss=\"binary_crossentropy\"\n",
    "              , metrics=[keras.metrics.binary_accuracy]\n",
    "              , optimizer=sgd)\n",
    "\n",
    "model.summary()"
   ]
  },
  {
   "cell_type": "code",
   "execution_count": 161,
   "id": "ddd3f0d1",
   "metadata": {
    "scrolled": true
   },
   "outputs": [
    {
     "name": "stdout",
     "output_type": "stream",
     "text": [
      "### q_no:  1\n",
      "150/150 [==============================] - 42s 237ms/step - loss: 0.5973 - binary_accuracy: 0.7190\n",
      "### q_no:  2\n",
      "150/150 [==============================] - 35s 232ms/step - loss: 0.0980 - binary_accuracy: 0.9827\n",
      "### q_no:  3\n",
      "150/150 [==============================] - 35s 233ms/step - loss: 0.2514 - binary_accuracy: 0.9323\n",
      "### q_no:  4\n",
      "150/150 [==============================] - 35s 235ms/step - loss: 0.5096 - binary_accuracy: 0.7917\n",
      "### q_no:  5\n",
      "150/150 [==============================] - 35s 232ms/step - loss: 0.6885 - binary_accuracy: 0.5510\n",
      "### q_no:  6\n",
      "150/150 [==============================] - 35s 233ms/step - loss: 0.5449 - binary_accuracy: 0.7644\n",
      "### q_no:  7\n",
      "150/150 [==============================] - 37s 244ms/step - loss: 0.5859 - binary_accuracy: 0.7235\n",
      "### q_no:  8\n",
      "150/150 [==============================] - 37s 245ms/step - loss: 0.6733 - binary_accuracy: 0.6062\n",
      "### q_no:  9\n",
      "150/150 [==============================] - 36s 240ms/step - loss: 0.5895 - binary_accuracy: 0.7215\n",
      "### q_no:  10\n",
      "150/150 [==============================] - 36s 241ms/step - loss: 0.6912 - binary_accuracy: 0.5140\n",
      "### q_no:  11\n",
      "150/150 [==============================] - 36s 242ms/step - loss: 0.6494 - binary_accuracy: 0.6492\n",
      "### q_no:  12\n",
      "150/150 [==============================] - 37s 249ms/step - loss: 0.4098 - binary_accuracy: 0.8523\n",
      "### q_no:  13\n",
      "150/150 [==============================] - 37s 247ms/step - loss: 0.6067 - binary_accuracy: 0.7038\n",
      "### q_no:  14\n",
      "150/150 [==============================] - 36s 241ms/step - loss: 0.6345 - binary_accuracy: 0.6683\n",
      "### q_no:  15\n",
      "150/150 [==============================] - 37s 245ms/step - loss: 0.6936 - binary_accuracy: 0.5150\n",
      "### q_no:  16\n",
      "150/150 [==============================] - 36s 238ms/step - loss: 0.5908 - binary_accuracy: 0.7212\n",
      "### q_no:  17\n",
      "150/150 [==============================] - 36s 241ms/step - loss: 0.6285 - binary_accuracy: 0.6792\n",
      "### q_no:  18\n",
      "150/150 [==============================] - 36s 241ms/step - loss: 0.2119 - binary_accuracy: 0.9475\n"
     ]
    }
   ],
   "source": [
    "# Iterate through questions 1 to 18 to train models for each question, evaluate\n",
    "# the trained model and store the predicted values.\n",
    "for q_no in range(1,19):\n",
    "\n",
    "    # Select level group for the question based on the q_no.\n",
    "    if q_no<=3: df_f = df_lvl1\n",
    "    elif q_no<=13: df_f = df_lvl2\n",
    "    elif q_no<=22: df_f = df_lvl3\n",
    "    print(\"### q_no: \", q_no)\n",
    "    \n",
    "    \n",
    "    X_train, X_test, y_train, y_test = train_test_split(df_f, labels_f[q_no].to_numpy(), test_size = 0.2)\n",
    "    \n",
    "    model.fit(X_train,y_train)\n",
    "\n",
    "# Evaluate the performance of the bagging classifier on the testing data\n",
    "    predict = model.predict(X_test, verbose=0)\n",
    "#     print(predict.shape)\n",
    "#     print(predict.shape[0])\n",
    "#     print(predict)\n",
    "#     print(predict[0])\n",
    "#     print(predict[1])\n",
    "#     print(y_test)\n",
    "    \n",
    "    for i in range(0,predict.shape[0]):\n",
    "        if(predict[i] > .5):\n",
    "            predict[i] = 1\n",
    "        elif(predict[i] <= .5):\n",
    "            predict[i] = 0\n",
    "\n",
    "    score = accuracy_score(y_test, predict)\n",
    "    precision = precision_score(y_test, predict)\n",
    "    recall = recall_score(y_test, predict)\n",
    "    f1= f1_score(y_test, predict)\n",
    "    auc= roc_auc_score(y_test, predict)\n",
    "    lstm_fpr, lstm_tpr, _ = roc_curve(y_test,  predict)\n",
    "\n",
    "\n",
    "    # Evaluate the trained model on the validation dataset and store the \n",
    "    # evaluation accuracy in the `evaluation_dict`.\n",
    "       \n",
    "\n",
    "    # Use the trained model to make predictions on the validation dataset and \n",
    "    # store the predicted values in the `prediction_df` dataframe.\n",
    "\n",
    "    evaluation_dict[q_no] = [[score,precision,recall,f1,auc,lstm_fpr, lstm_tpr]]\n"
   ]
  },
  {
   "cell_type": "code",
   "execution_count": 162,
   "id": "561790bb",
   "metadata": {},
   "outputs": [
    {
     "name": "stdout",
     "output_type": "stream",
     "text": [
      "question 1: score 0.7125 precision 0.7125 recall 1.0 f1 0.832116788321168 auc 0.5 fpr [0. 1.] tpr [0. 1.]\n",
      "question 2: score 0.9766666666666667 precision 0.9766666666666667 recall 1.0 f1 0.988195615514334 auc 0.5 fpr [0. 1.] tpr [0. 1.]\n",
      "question 3: score 0.9325 precision 0.9325 recall 1.0 f1 0.9650711513583441 auc 0.5 fpr [0. 1.] tpr [0. 1.]\n",
      "question 4: score 0.8041666666666667 precision 0.8159722222222222 recall 0.9761163032191069 f1 0.8888888888888888 auc 0.5408007676433088 fpr [0.         0.89451477 1.        ] tpr [0.        0.9761163 1.       ]\n",
      "question 5: score 0.5491666666666667 precision 0.5359307359307359 recall 0.9919871794871795 f1 0.6958965711073637 auc 0.530715811965812 fpr [0.         0.93055556 1.        ] tpr [0.         0.99198718 1.        ]\n",
      "question 6: score 0.785 precision 0.7954545454545454 recall 0.974304068522484 f1 0.875842155919153 auc 0.5473024102010916 fpr [0.         0.87969925 1.        ] tpr [0.         0.97430407 1.        ]\n",
      "question 7: score 0.7225 precision 0.7331583552055994 recall 0.9676674364896074 f1 0.834245893479343 auc 0.5272468918974983 fpr [0.         0.91317365 1.        ] tpr [0.         0.96766744 1.        ]\n",
      "question 8: score 0.6208333333333333 precision 0.6257615317667538 recall 0.9663978494623656 f1 0.7596407818277865 auc 0.5117076966610073 fpr [0.         0.94298246 1.        ] tpr [0.         0.96639785 1.        ]\n",
      "question 9: score 0.725 precision 0.7325174825174825 recall 0.9721577726218097 f1 0.8354935194416748 auc 0.5334161644174137 fpr [0.         0.90532544 1.        ] tpr [0.         0.97215777 1.        ]\n",
      "question 10: score 0.48 precision 0.0 recall 0.0 f1 0.0 auc 0.5 fpr [0. 1.] tpr [0. 1.]\n",
      "question 11: score 0.6583333333333333 precision 0.6573913043478261 recall 0.9792746113989638 f1 0.7866805411030178 auc 0.5293569318677062 fpr [0.         0.92056075 1.        ] tpr [0.         0.97927461 1.        ]\n",
      "question 12: score 0.8583333333333333 precision 0.8583333333333333 recall 1.0 f1 0.9237668161434976 auc 0.5 fpr [0. 1.] tpr [0. 1.]\n",
      "question 13: score 0.7308333333333333 precision 0.0 recall 0.0 f1 0.0 auc 0.5 fpr [0. 1.] tpr [0. 1.]\n",
      "question 14: score 0.7008333333333333 precision 0.7010915197313182 recall 0.9964200477326969 f1 0.8230655495317891 auc 0.506497316684028 fpr [0.         0.98342541 1.        ] tpr [0.         0.99642005 1.        ]\n",
      "question 15: score 0.5491666666666667 precision 0.0 recall 0.0 f1 0.0 auc 0.5 fpr [0. 1.] tpr [0. 1.]\n",
      "question 16: score 0.7433333333333333 precision 0.7460184409052808 recall 0.994413407821229 f1 0.8524904214559386 auc 0.5004853924352046 fpr [0.         0.99344262 1.        ] tpr [0.         0.99441341 1.        ]\n",
      "question 17: score 0.6641666666666667 precision 0.6658291457286433 recall 0.9949937421777222 f1 0.7977922729553437 auc 0.499990636674896 fpr [0.         0.99501247 1.        ] tpr [0.         0.99499374 1.        ]\n",
      "question 18: score 0.9566666666666667 precision 0.9566666666666667 recall 1.0 f1 0.9778534923339013 auc 0.5 fpr [0. 1.] tpr [0. 1.]\n",
      "\n",
      "Average accuracy 0.7316666666666667\n",
      "\n",
      "Average precision 0.6358773305820598\n",
      "\n",
      "Average recall 0.8229851343851758\n",
      "\n",
      "Average f1 0.7131689144100857\n",
      "\n",
      "Average auc 0.5126400011359982\n"
     ]
    }
   ],
   "source": [
    "score = 0\n",
    "precision = 0\n",
    "recall = 0\n",
    "f1 = 0\n",
    "auc = 0\n",
    "fpr =0 \n",
    "tpr =0\n",
    "for name, value in evaluation_dict.items():\n",
    "    print(f'question {name}: score {value[0][0]} precision {value[0][1]} recall {value[0][2]} f1 {value[0][3]} auc {value[0][4]} fpr {value[0][5]} tpr {value[0][6]}')\n",
    "    score += value[0][0]\n",
    "    precision += value[0][1]\n",
    "    recall += value[0][2]\n",
    "    f1 += value[0][3]\n",
    "    auc += value[0][4]\n",
    "    \n",
    "print(\"\\nAverage accuracy\", score/18)\n",
    "print(\"\\nAverage precision\", precision/18)\n",
    "print(\"\\nAverage recall\", recall/18)\n",
    "print(\"\\nAverage f1\", f1/18)\n",
    "print(\"\\nAverage auc\", auc/18)"
   ]
  },
  {
   "cell_type": "code",
   "execution_count": 163,
   "id": "aa536c01",
   "metadata": {},
   "outputs": [
    {
     "data": {
      "image/png": "[encoded data removed]",
      "text/plain": [
       "<Figure size 640x480 with 1 Axes>"
      ]
     },
     "metadata": {},
     "output_type": "display_data"
    }
   ],
   "source": [
    "for name, value in evaluation_dict.items():\n",
    "  plt.plot(value[0][5], value[0][6], label=name)  \n",
    "    \n",
    "# plt.plot(lstm_fpr,lstm_tpr, label=\"LSTM\")\n",
    "#plt.plot(gnb_fpr,gnb_tpr, label=\"GNB\")\n",
    "plt.ylabel('True Positive Rate')\n",
    "plt.xlabel('False Positive Rate')\n",
    "plt.legend()\n",
    "plt.show()"
   ]
  },
  {
   "cell_type": "code",
   "execution_count": null,
   "id": "205afc99",
   "metadata": {},
   "outputs": [],
   "source": []
  }
 ],
 "metadata": {
  "colab": {
   "provenance": []
  },
  "kernelspec": {
   "display_name": "Python 3 (ipykernel)",
   "language": "python",
   "name": "python3"
  },
  "language_info": {
   "codemirror_mode": {
    "name": "ipython",
    "version": 3
   },
   "file_extension": ".py",
   "mimetype": "text/x-python",
   "name": "python",
   "nbconvert_exporter": "python",
   "pygments_lexer": "ipython3",
   "version": "3.9.13"
  }
 },
 "nbformat": 4,
 "nbformat_minor": 5
}
